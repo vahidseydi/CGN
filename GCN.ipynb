{
  "nbformat": 4,
  "nbformat_minor": 0,
  "metadata": {
    "colab": {
      "name": "GCN.ipynb",
      "provenance": [],
      "collapsed_sections": []
    },
    "kernelspec": {
      "name": "python3",
      "display_name": "Python 3"
    },
    "language_info": {
      "name": "python"
    }
  },
  "cells": [
    {
      "cell_type": "code",
      "metadata": {
        "colab": {
          "base_uri": "https://localhost:8080/"
        },
        "id": "WjzqhGneVuOW",
        "outputId": "de60fe7e-c196-4750-fc0d-8c57a4d731e7"
      },
      "source": [
        "import numpy as np\n",
        "npz_data=np.load('/content/drive/MyDrive/Datasets/amazon_electronics_computers (1).npz')\n",
        "npz_data.files\n"
      ],
      "execution_count": 4,
      "outputs": [
        {
          "output_type": "execute_result",
          "data": {
            "text/plain": [
              "['adj_data',\n",
              " 'adj_indices',\n",
              " 'adj_indptr',\n",
              " 'adj_shape',\n",
              " 'attr_data',\n",
              " 'attr_indices',\n",
              " 'attr_indptr',\n",
              " 'attr_shape',\n",
              " 'labels',\n",
              " 'class_names']"
            ]
          },
          "metadata": {
            "tags": []
          },
          "execution_count": 4
        }
      ]
    },
    {
      "cell_type": "code",
      "metadata": {
        "colab": {
          "base_uri": "https://localhost:8080/"
        },
        "id": "rttQ67rzV9NU",
        "outputId": "33d1de54-ab03-4c3d-9701-44ac89ad572f"
      },
      "source": [
        "class_names =npz_data['class_names']\n",
        "class_names"
      ],
      "execution_count": 6,
      "outputs": [
        {
          "output_type": "execute_result",
          "data": {
            "text/plain": [
              "array(['Desktops', 'Data Storage', 'Laptops', 'Monitors',\n",
              "       'Computer Components', 'Video Projectors', 'Routers', 'Tablets',\n",
              "       'Networking Products', 'Webcams'], dtype='<U19')"
            ]
          },
          "metadata": {
            "tags": []
          },
          "execution_count": 6
        }
      ]
    },
    {
      "cell_type": "code",
      "metadata": {
        "id": "j9NewBDvWAdE"
      },
      "source": [
        "#utils\n",
        "import numpy as np\n",
        "import scipy.sparse as sp\n",
        "import torch\n",
        "from scipy.sparse import coo_matrix, csr_matrix\n",
        "from sklearn.preprocessing import MultiLabelBinarizer, LabelBinarizer, normalize\n",
        "\n",
        "\n",
        "def load_data():\n",
        "\n",
        " features = sp.csr_matrix((npz_data['attr_data'], npz_data['attr_indices'], npz_data['attr_indptr']),\n",
        "                                        shape=npz_data['attr_shape'])\n",
        "  \n",
        " adj= sp.csr_matrix(sp.csr_matrix((npz_data['adj_data'], npz_data['adj_indices'], npz_data['adj_indptr']),\n",
        "                                   shape=npz_data['adj_shape']))\n",
        "  \n",
        "\n",
        " labels=npz_data['labels']\n",
        " labels=binarize_labels(labels)\n",
        "\n",
        " adj = adj + adj.T.multiply(adj.T > adj) - adj.multiply(adj.T > adj)\n",
        " adj = normalize(adj + sp.eye(adj.shape[0]))\n",
        "\n",
        " idx_train = range(9100)\n",
        " idx_val = range(9100,11500)\n",
        " idx_test = range(11500, 13381)\n",
        "\n",
        " idx_train = torch.LongTensor(idx_train)\n",
        " idx_val = torch.LongTensor(idx_val)\n",
        " idx_test = torch.LongTensor(idx_test)\n",
        "\n",
        " features = torch.FloatTensor(np.array(features.todense()))\n",
        " labels = torch.LongTensor(np.where(labels)[1])\n",
        " #adj = sparse_mx_to_torch_sparse_tensor(adj)\n",
        " adj = torch.FloatTensor(np.array(adj.todense()))\n",
        "\n",
        " \n",
        " return adj, features, labels, idx_train, idx_val, idx_test\n",
        " \n",
        "\n",
        "def normalize(mx):\n",
        "    \"\"\"Row-normalize sparse matrix\"\"\"\n",
        "    rowsum = np.array(mx.sum(1))\n",
        "    #sum in every row \n",
        "    r_inv = np.power(rowsum, -1).flatten()\n",
        "    # every sum to the power of -1 \n",
        "    r_inv[np.isinf(r_inv)] = 0.\n",
        "    r_mat_inv = sp.diags(r_inv)\n",
        "    #diagonal matrice \n",
        "    mx = r_mat_inv.dot(mx)\n",
        "    return mx\n",
        "\n",
        "\n",
        "def binarize_labels(labels, sparse_output=False, return_classes=False):\n",
        "    if hasattr(labels[0], '__iter__'):  # labels[0] is iterable <=> multilabel format\n",
        "        binarizer = MultiLabelBinarizer(sparse_output=sparse_output)\n",
        "    else:\n",
        "        binarizer = LabelBinarizer(sparse_output=sparse_output)\n",
        "    label_matrix = binarizer.fit_transform(labels).astype(np.float32)\n",
        "    return (label_matrix, binarizer.classes_) if return_classes else label_matrix\n",
        " \n",
        "\n",
        "def sparse_mx_to_torch_sparse_tensor(sparse_mx):\n",
        "    \"\"\"Convert a scipy sparse matrix to a torch sparse tensor.\"\"\"\n",
        "    sparse_mx = sparse_mx.tocoo().astype(np.float32)\n",
        "    indices = torch.from_numpy(\n",
        "        np.vstack((sparse_mx.row, sparse_mx.col)).astype(np.int64))\n",
        "    values = torch.from_numpy(sparse_mx.data)\n",
        "    shape = torch.Size(sparse_mx.shape)\n",
        "    return torch.sparse.FloatTensor(indices, values, shape)    \n",
        "\n",
        "\n",
        "def accuracy(output, labels):\n",
        "    preds = output.max(1)[1].type_as(labels)\n",
        "    correct = preds.eq(labels).double()\n",
        "    correct = correct.sum()\n",
        "    return correct / len(labels)    \n"
      ],
      "execution_count": 7,
      "outputs": []
    },
    {
      "cell_type": "code",
      "metadata": {
        "id": "NQLBOry4WJvV"
      },
      "source": [
        "adj, features, labels, idx_train, idx_val, idx_test = load_data()\n"
      ],
      "execution_count": 8,
      "outputs": []
    },
    {
      "cell_type": "code",
      "metadata": {
        "colab": {
          "base_uri": "https://localhost:8080/"
        },
        "id": "J8dkigyvWPAV",
        "outputId": "29075c02-2a63-455c-a215-48a2fbe550b0"
      },
      "source": [
        "features"
      ],
      "execution_count": 9,
      "outputs": [
        {
          "output_type": "execute_result",
          "data": {
            "text/plain": [
              "tensor([[0., 0., 0.,  ..., 0., 0., 0.],\n",
              "        [1., 1., 0.,  ..., 0., 1., 0.],\n",
              "        [0., 0., 0.,  ..., 0., 0., 0.],\n",
              "        ...,\n",
              "        [1., 0., 0.,  ..., 0., 0., 0.],\n",
              "        [1., 0., 0.,  ..., 0., 0., 0.],\n",
              "        [1., 1., 0.,  ..., 1., 1., 0.]])"
            ]
          },
          "metadata": {
            "tags": []
          },
          "execution_count": 9
        }
      ]
    },
    {
      "cell_type": "code",
      "metadata": {
        "colab": {
          "base_uri": "https://localhost:8080/"
        },
        "id": "b8aj9qeLWWSi",
        "outputId": "7e31abb3-3f3e-447a-d88f-06fe96f4ed27"
      },
      "source": [
        "features.shape"
      ],
      "execution_count": 10,
      "outputs": [
        {
          "output_type": "execute_result",
          "data": {
            "text/plain": [
              "torch.Size([13752, 767])"
            ]
          },
          "metadata": {
            "tags": []
          },
          "execution_count": 10
        }
      ]
    },
    {
      "cell_type": "code",
      "metadata": {
        "colab": {
          "base_uri": "https://localhost:8080/"
        },
        "id": "tV66nK5iWM5l",
        "outputId": "f33e6201-46b7-41e5-c490-410497f02c48"
      },
      "source": [
        "features.min()\n",
        "#feature ha 0 , 1 hastan"
      ],
      "execution_count": 11,
      "outputs": [
        {
          "output_type": "execute_result",
          "data": {
            "text/plain": [
              "tensor(0.)"
            ]
          },
          "metadata": {
            "tags": []
          },
          "execution_count": 11
        }
      ]
    },
    {
      "cell_type": "code",
      "metadata": {
        "colab": {
          "base_uri": "https://localhost:8080/"
        },
        "id": "2oQd1N6PWSKk",
        "outputId": "70b46202-a443-45d5-c9e2-e9178171285c"
      },
      "source": [
        "adj"
      ],
      "execution_count": 12,
      "outputs": [
        {
          "output_type": "execute_result",
          "data": {
            "text/plain": [
              "tensor([[0.2000, 0.0000, 0.0000,  ..., 0.0000, 0.0000, 0.0000],\n",
              "        [0.0000, 0.0120, 0.0000,  ..., 0.0000, 0.0000, 0.0000],\n",
              "        [0.0000, 0.0000, 0.0294,  ..., 0.0000, 0.0000, 0.0000],\n",
              "        ...,\n",
              "        [0.0000, 0.0000, 0.0000,  ..., 0.0333, 0.0000, 0.0000],\n",
              "        [0.0000, 0.0000, 0.0000,  ..., 0.0000, 0.0161, 0.0000],\n",
              "        [0.0000, 0.0000, 0.0000,  ..., 0.0000, 0.0000, 0.0333]])"
            ]
          },
          "metadata": {
            "tags": []
          },
          "execution_count": 12
        }
      ]
    },
    {
      "cell_type": "code",
      "metadata": {
        "colab": {
          "base_uri": "https://localhost:8080/"
        },
        "id": "3FqrVYumWUFV",
        "outputId": "3db76368-f957-45d5-eb47-57511bc82778"
      },
      "source": [
        "adj.shape"
      ],
      "execution_count": 13,
      "outputs": [
        {
          "output_type": "execute_result",
          "data": {
            "text/plain": [
              "torch.Size([13752, 13752])"
            ]
          },
          "metadata": {
            "tags": []
          },
          "execution_count": 13
        }
      ]
    },
    {
      "cell_type": "code",
      "metadata": {
        "colab": {
          "base_uri": "https://localhost:8080/"
        },
        "id": "m8TxSro9Wb-7",
        "outputId": "fce48dc5-e464-408d-f87f-7b50300c4d29"
      },
      "source": [
        "labels\n",
        "#numbers from 0 to 9 ,indicating a category in class_names"
      ],
      "execution_count": 14,
      "outputs": [
        {
          "output_type": "execute_result",
          "data": {
            "text/plain": [
              "tensor([4, 4, 8,  ..., 8, 4, 0])"
            ]
          },
          "metadata": {
            "tags": []
          },
          "execution_count": 14
        }
      ]
    },
    {
      "cell_type": "code",
      "metadata": {
        "colab": {
          "base_uri": "https://localhost:8080/"
        },
        "id": "sS3flCtDWZoK",
        "outputId": "e1ded4f1-1c4e-425c-909c-9dc7b21d61f0"
      },
      "source": [
        "labels.shape"
      ],
      "execution_count": 15,
      "outputs": [
        {
          "output_type": "execute_result",
          "data": {
            "text/plain": [
              "torch.Size([13752])"
            ]
          },
          "metadata": {
            "tags": []
          },
          "execution_count": 15
        }
      ]
    },
    {
      "cell_type": "code",
      "metadata": {
        "colab": {
          "base_uri": "https://localhost:8080/"
        },
        "id": "20VeFeEYWg-x",
        "outputId": "1bc1a04c-953d-4769-f932-03999c78e146"
      },
      "source": [
        "XZ=np.insert(features,767,labels,axis=1)\n",
        "XZ.shape\n",
        "XZ\n",
        "# inserting labels to the last column of feature\n",
        "#having each node with its feature and label"
      ],
      "execution_count": 16,
      "outputs": [
        {
          "output_type": "execute_result",
          "data": {
            "text/plain": [
              "tensor([[0., 0., 0.,  ..., 0., 0., 4.],\n",
              "        [1., 1., 0.,  ..., 1., 0., 4.],\n",
              "        [0., 0., 0.,  ..., 0., 0., 8.],\n",
              "        ...,\n",
              "        [1., 0., 0.,  ..., 0., 0., 8.],\n",
              "        [1., 0., 0.,  ..., 0., 0., 4.],\n",
              "        [1., 1., 0.,  ..., 1., 0., 0.]])"
            ]
          },
          "metadata": {
            "tags": []
          },
          "execution_count": 16
        }
      ]
    },
    {
      "cell_type": "code",
      "metadata": {
        "colab": {
          "base_uri": "https://localhost:8080/"
        },
        "id": "rbcA4dxIWjwp",
        "outputId": "443af2a8-2763-4674-c925-01d1aa65a32c"
      },
      "source": [
        "AXZ=np.insert(XZ,0,adj,axis=1)\n",
        "AXZ\n",
        "# inserting adj to the first column of XZ\n",
        "#having each node with its feature , label and relation with other nodes"
      ],
      "execution_count": 17,
      "outputs": [
        {
          "output_type": "execute_result",
          "data": {
            "text/plain": [
              "tensor([[0.2000, 0.0000, 0.0000,  ..., 0.0000, 0.0000, 4.0000],\n",
              "        [0.0000, 0.0120, 0.0000,  ..., 1.0000, 0.0000, 4.0000],\n",
              "        [0.0000, 0.0000, 0.0294,  ..., 0.0000, 0.0000, 8.0000],\n",
              "        ...,\n",
              "        [0.0000, 0.0000, 0.0000,  ..., 0.0000, 0.0000, 8.0000],\n",
              "        [0.0000, 0.0000, 0.0000,  ..., 0.0000, 0.0000, 4.0000],\n",
              "        [0.0000, 0.0000, 0.0000,  ..., 1.0000, 0.0000, 0.0000]])"
            ]
          },
          "metadata": {
            "tags": []
          },
          "execution_count": 17
        }
      ]
    },
    {
      "cell_type": "code",
      "metadata": {
        "colab": {
          "base_uri": "https://localhost:8080/"
        },
        "id": "YWR2e5tJWmDk",
        "outputId": "606593fe-aaa9-43b3-cfc7-d21cd7a49c92"
      },
      "source": [
        "AXZ.shape\n"
      ],
      "execution_count": 18,
      "outputs": [
        {
          "output_type": "execute_result",
          "data": {
            "text/plain": [
              "torch.Size([13752, 14520])"
            ]
          },
          "metadata": {
            "tags": []
          },
          "execution_count": 18
        }
      ]
    },
    {
      "cell_type": "code",
      "metadata": {
        "colab": {
          "base_uri": "https://localhost:8080/",
          "height": 265
        },
        "id": "bz94V6WlWvYC",
        "outputId": "a6f86ac7-82fb-4420-bfe8-5db4daf08627"
      },
      "source": [
        "import matplotlib.pyplot as plt\n",
        "x=idx_train[:100].tolist()\n",
        "type(XZ)\n",
        "y1=[]\n",
        "i=0\n",
        "while i < 100:\n",
        "  y1=np.append(y1,class_names[int(XZ[(i,767)])])\n",
        "  i=i+1\n",
        "\n",
        "y1=y1.tolist()\n",
        "plt.scatter(x, y1)\n",
        "plt.show()\n",
        "#plotting first 100 of x_train to show their categories"
      ],
      "execution_count": 19,
      "outputs": [
        {
          "output_type": "display_data",
          "data": {
            "image/png": "[encoded data removed]",
            "text/plain": [
              "<Figure size 432x288 with 1 Axes>"
            ]
          },
          "metadata": {
            "tags": [],
            "needs_background": "light"
          }
        }
      ]
    }
  ]
}