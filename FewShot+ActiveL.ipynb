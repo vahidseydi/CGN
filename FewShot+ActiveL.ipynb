{
  "nbformat": 4,
  "nbformat_minor": 0,
  "metadata": {
    "colab": {
      "name": "FewShot+ActiveL.ipynb",
      "provenance": [],
      "collapsed_sections": [],
      "mount_file_id": "https://github.com/vahidseydi/CGN/blob/main/GCN.ipynb",
      "authorship_tag": "ABX9TyOGiHNJSpVSy1kCIFePcuaf",
      "include_colab_link": true
    },
    "kernelspec": {
      "name": "python3",
      "display_name": "Python 3"
    },
    "language_info": {
      "name": "python"
    }
  },
  "cells": [
    {
      "cell_type": "markdown",
      "metadata": {
        "id": "view-in-github",
        "colab_type": "text"
      },
      "source": [
        "<a href=\"https://colab.research.google.com/github/vahidseydi/CGN/blob/main/FewShot%2BActiveL.ipynb\" target=\"_parent\"><img src=\"https://colab.research.google.com/assets/colab-badge.svg\" alt=\"Open In Colab\"/></a>"
      ]
    },
    {
      "cell_type": "markdown",
      "metadata": {
        "id": "iQrGTMcwGbkt"
      },
      "source": [
        "#Downloading dataset file from Github"
      ]
    },
    {
      "cell_type": "code",
      "metadata": {
        "id": "hnHBK6RWuN9j",
        "colab": {
          "base_uri": "https://localhost:8080/"
        },
        "outputId": "52dc3f3f-47f8-4d06-aa25-56baa798362a"
      },
      "source": [
        "#ابتدا دیتاست موجود در فولدر دیتا در آدرس گیت هاب پروژه، را در این نوت بوک دخیره می کنیم\n",
        "! wget 'https://github.com/vahidseydi/CGN/blob/main/Data/amazon_electronics_computers%20(1).npz?raw=true'"
      ],
      "execution_count": 1,
      "outputs": [
        {
          "output_type": "stream",
          "text": [
            "--2021-05-19 09:44:55--  https://github.com/vahidseydi/CGN/blob/main/Data/amazon_electronics_computers%20(1).npz?raw=true\n",
            "Resolving github.com (github.com)... 192.30.255.112\n",
            "Connecting to github.com (github.com)|192.30.255.112|:443... connected.\n",
            "HTTP request sent, awaiting response... 302 Found\n",
            "Location: https://github.com/vahidseydi/CGN/raw/main/Data/amazon_electronics_computers%20(1).npz [following]\n",
            "--2021-05-19 09:44:55--  https://github.com/vahidseydi/CGN/raw/main/Data/amazon_electronics_computers%20(1).npz\n",
            "Reusing existing connection to github.com:443.\n",
            "HTTP request sent, awaiting response... 302 Found\n",
            "Location: https://raw.githubusercontent.com/vahidseydi/CGN/main/Data/amazon_electronics_computers%20(1).npz [following]\n",
            "--2021-05-19 09:44:55--  https://raw.githubusercontent.com/vahidseydi/CGN/main/Data/amazon_electronics_computers%20(1).npz\n",
            "Resolving raw.githubusercontent.com (raw.githubusercontent.com)... 185.199.108.133, 185.199.109.133, 185.199.110.133, ...\n",
            "Connecting to raw.githubusercontent.com (raw.githubusercontent.com)|185.199.108.133|:443... connected.\n",
            "HTTP request sent, awaiting response... 200 OK\n",
            "Length: 31921488 (30M) [application/octet-stream]\n",
            "Saving to: ‘amazon_electronics_computers (1).npz?raw=true.46’\n",
            "\n",
            "amazon_electronics_ 100%[===================>]  30.44M   106MB/s    in 0.3s    \n",
            "\n",
            "2021-05-19 09:44:55 (106 MB/s) - ‘amazon_electronics_computers (1).npz?raw=true.46’ saved [31921488/31921488]\n",
            "\n"
          ],
          "name": "stdout"
        }
      ]
    },
    {
      "cell_type": "markdown",
      "metadata": {
        "id": "INK67X5IGkkc"
      },
      "source": [
        "# Load Data"
      ]
    },
    {
      "cell_type": "code",
      "metadata": {
        "id": "-MYbUcRVdtDe",
        "colab": {
          "base_uri": "https://localhost:8080/"
        },
        "outputId": "b7e16be8-10f3-4c8f-a4ff-136c22df8070"
      },
      "source": [
        "import numpy as np\n",
        "#فایل های موجود در دیتاست را می خوانیم\n",
        "npz_data=np.load('/content/amazon_electronics_computers (1).npz?raw=true')\n",
        "npz_data.files"
      ],
      "execution_count": 2,
      "outputs": [
        {
          "output_type": "execute_result",
          "data": {
            "text/plain": [
              "['adj_data',\n",
              " 'adj_indices',\n",
              " 'adj_indptr',\n",
              " 'adj_shape',\n",
              " 'attr_data',\n",
              " 'attr_indices',\n",
              " 'attr_indptr',\n",
              " 'attr_shape',\n",
              " 'labels',\n",
              " 'class_names']"
            ]
          },
          "metadata": {
            "tags": []
          },
          "execution_count": 2
        }
      ]
    },
    {
      "cell_type": "code",
      "metadata": {
        "id": "SmNiWW8bd-Xx",
        "colab": {
          "base_uri": "https://localhost:8080/"
        },
        "outputId": "c59f1c9a-17ff-4b01-906f-e22af70ed8da"
      },
      "source": [
        "#کلاس های موجود در دیتاست شامل 10 کلاس می باشد\n",
        "class_names =npz_data['class_names']\n",
        "class_names"
      ],
      "execution_count": 3,
      "outputs": [
        {
          "output_type": "execute_result",
          "data": {
            "text/plain": [
              "array(['Desktops', 'Data Storage', 'Laptops', 'Monitors',\n",
              "       'Computer Components', 'Video Projectors', 'Routers', 'Tablets',\n",
              "       'Networking Products', 'Webcams'], dtype='<U19')"
            ]
          },
          "metadata": {
            "tags": []
          },
          "execution_count": 3
        }
      ]
    },
    {
      "cell_type": "code",
      "metadata": {
        "id": "vFpxP_MNMmCX"
      },
      "source": [
        "#تابع زیر برای جداسازی داده های آموزش، تست و اعتبارسنجی استفاده می شود\n",
        "#برابر با تمام داده ها می باشد y\n",
        "labels =npz_data['labels']\n",
        "y=labels.size\n",
        "#p for calculating percentage for idx_train,val,test\n",
        "p = lambda x: x*y/100"
      ],
      "execution_count": 4,
      "outputs": []
    },
    {
      "cell_type": "code",
      "metadata": {
        "id": "j9NewBDvWAdE"
      },
      "source": [
        "import numpy as np\n",
        "import scipy.sparse as sp\n",
        "import torch\n",
        "from scipy.sparse import  csr_matrix\n",
        "\n",
        "\n",
        "def load_data():\n",
        " \n",
        " features = sp.csr_matrix((npz_data['attr_data'], npz_data['attr_indices'], npz_data['attr_indptr']),shape=npz_data['attr_shape'])\n",
        "\n",
        " # build graph\n",
        " \n",
        " adj= sp.csr_matrix(sp.csr_matrix((npz_data['adj_data'], npz_data['adj_indices'], npz_data['adj_indptr']),shape=npz_data['adj_shape']))\n",
        " \n",
        " # build symmetric adjacency matrix\n",
        "\n",
        " adj = adj + adj.T.multiply(adj.T > adj) - adj.multiply(adj.T > adj)\n",
        " adj = normalize(adj + sp.eye(adj.shape[0]))\n",
        " #اول اعداد 0 و 1 هست بعد از نرمالایز تغییر میکند \n",
        "\n",
        " labels=npz_data['labels']\n",
        " #لیبل ها را یکی اضافه می کنیم تا لیبل 0 را به داده های بدون لیبل دهیم\n",
        " labels=labels+1\n",
        "\n",
        " #جداسازی داده ها \n",
        " idx_train =range(round(p(50)))\n",
        " idx_val = range(idx_train[-1],idx_train[-1]+round(p(30)))\n",
        " idx_test =range(idx_val[-1],idx_val[-1]+round(p(20)))\n",
        "\n",
        " idx_train = torch.LongTensor(idx_train)\n",
        " idx_val = torch.LongTensor(idx_val)\n",
        " idx_test = torch.LongTensor(idx_test)\n",
        "\n",
        " features = torch.FloatTensor(np.array(features.todense()))\n",
        " adj = torch.FloatTensor(np.array(adj.todense()))\n",
        " labels = torch.LongTensor(labels)\n",
        "\n",
        "\n",
        " return adj, features, labels, idx_train, idx_val, idx_test"
      ],
      "execution_count": 5,
      "outputs": []
    },
    {
      "cell_type": "code",
      "metadata": {
        "id": "A9YheZ8yNTSL"
      },
      "source": [
        "def normalize(mx):\n",
        "    \"\"\"Row-normalize sparse matrix\"\"\"\n",
        "    rowsum = np.array(mx.sum(1))\n",
        "    #sum in every row \n",
        "    r_inv = np.power(rowsum, -1).flatten()\n",
        "    # every sum to the power of -1 \n",
        "    r_inv[np.isinf(r_inv)] = 0.\n",
        "    r_mat_inv = sp.diags(r_inv)\n",
        "    #diagonal matrice \n",
        "    mx = r_mat_inv.dot(mx)\n",
        "    return mx"
      ],
      "execution_count": 6,
      "outputs": []
    },
    {
      "cell_type": "code",
      "metadata": {
        "id": "Iha5MQaYDJpG"
      },
      "source": [
        "def accuracy(output, labels):\n",
        "    preds = output.max(1)[1].type_as(labels)\n",
        "    correct = preds.eq(labels).double()\n",
        "    correct = correct.sum()\n",
        "    return correct / len(labels)    "
      ],
      "execution_count": 7,
      "outputs": []
    },
    {
      "cell_type": "code",
      "metadata": {
        "id": "NQLBOry4WJvV"
      },
      "source": [
        "adj, features, labels, idx_train, idx_val, idx_test = load_data()\n"
      ],
      "execution_count": 8,
      "outputs": []
    },
    {
      "cell_type": "markdown",
      "metadata": {
        "id": "HsHyFUvEUMFQ"
      },
      "source": [
        "\n",
        "\n",
        "#Constructing Train data"
      ]
    },
    {
      "cell_type": "code",
      "metadata": {
        "id": "t0-99ajritPS"
      },
      "source": [
        "#20% of train data for labeled\n",
        "#80% of train data for unlabeled\n",
        "#جداسازی داده های با لیبل و بدون لیبل برای آموزش \n",
        "\n",
        "p_train = lambda x: x*len(idx_train)/100\n",
        "\n",
        "idx_labeled_train =range(round(p_train(20)))\n",
        "idx_unlabeled_train = range(idx_labeled_train[-1],idx_labeled_train[-1]+round(p_train(80)))\n"
      ],
      "execution_count": 9,
      "outputs": []
    },
    {
      "cell_type": "code",
      "metadata": {
        "colab": {
          "base_uri": "https://localhost:8080/"
        },
        "id": "SUovgcgTOAmt",
        "outputId": "cc1fd424-2a68-4b99-de51-4cd676a77884"
      },
      "source": [
        "print(idx_labeled_train,idx_unlabeled_train)"
      ],
      "execution_count": 10,
      "outputs": [
        {
          "output_type": "stream",
          "text": [
            "range(0, 1375) range(1374, 6875)\n"
          ],
          "name": "stdout"
        }
      ]
    },
    {
      "cell_type": "code",
      "metadata": {
        "id": "6003R_bp4Xkz"
      },
      "source": [
        "#اندیس مربوط به هر کلاسی را جدا می کنیم\n",
        "class_1=[i for i,x in enumerate(labels[idx_labeled_train]) if x==1] \n",
        "class_2=[i for i,x in enumerate(labels[idx_labeled_train]) if x==2] \n",
        "class_3=[i for i,x in enumerate(labels[idx_labeled_train]) if x==3]\n",
        "class_4=[i for i,x in enumerate(labels[idx_labeled_train]) if x==4] \n",
        "class_5=[i for i,x in enumerate(labels[idx_labeled_train]) if x==5] \n",
        "class_6=[i for i,x in enumerate(labels[idx_labeled_train]) if x==6] \n",
        "class_7=[i for i,x in enumerate(labels[idx_labeled_train]) if x==7] \n",
        "class_8=[i for i,x in enumerate(labels[idx_labeled_train]) if x==8] \n",
        "class_9=[i for i,x in enumerate(labels[idx_labeled_train]) if x==9] \n",
        "class_10=[i for i,x in enumerate(labels[idx_labeled_train]) if x==10] "
      ],
      "execution_count": 11,
      "outputs": []
    },
    {
      "cell_type": "code",
      "metadata": {
        "id": "-DEj19oZ9yVr"
      },
      "source": [
        "#می خواهیم از هر کلاسی به صورت رندوم سمپل انتخاب کنیم\n",
        "import random\n",
        "Random_idx_train=[]\n",
        "#با تعداد شات تعیین می کنیم که از هر کلاس چند سمپل نیاز داریم\n",
        "N_shot=10\n",
        "for i in range(N_shot):\n",
        "  Random_idx_train.append(random.choice(class_1))\n",
        "  Random_idx_train.append(random.choice(class_2))\n",
        "  Random_idx_train.append(random.choice(class_3))\n",
        "  Random_idx_train.append(random.choice(class_4))\n",
        "  Random_idx_train.append(random.choice(class_5))\n",
        "  Random_idx_train.append(random.choice(class_6))\n",
        "  Random_idx_train.append(random.choice(class_7))\n",
        "  Random_idx_train.append(random.choice(class_8))\n",
        "  Random_idx_train.append(random.choice(class_9))\n",
        "  Random_idx_train.append(random.choice(class_10))\n",
        "\n",
        "#Random_idx_train#اندیس "
      ],
      "execution_count": 12,
      "outputs": []
    },
    {
      "cell_type": "code",
      "metadata": {
        "id": "p1_KllTImV3U"
      },
      "source": [
        "#اگر بخواهیم از هر کلاس یک سمپل انتخاب کنیم مجموعا 10 سمپل با لیبل داریم \n",
        "#اگر بخواهیم نسبت 20 به 80 را رعایت کنیم پس لازم است 40 داده بدون لیبل هم انتخاب کنیم\n",
        "\n",
        "hiddenIndex_train=[]\n",
        "\n",
        "for i in range(40*N_shot):\n",
        "  hiddenIndex_train.append(random.choice(idx_unlabeled_train))\n",
        "#hiddenIndex_train  "
      ],
      "execution_count": 13,
      "outputs": []
    },
    {
      "cell_type": "code",
      "metadata": {
        "id": "1C808icQZ2u_"
      },
      "source": [
        "#مجموع اندیس های آموزش شامل اندیس های زیر می باشد:\n",
        "#traindata_idx=Random_idx_train+hiddenIndex_train\n"
      ],
      "execution_count": 14,
      "outputs": []
    },
    {
      "cell_type": "code",
      "metadata": {
        "id": "sRhvyy9HgXT-",
        "colab": {
          "base_uri": "https://localhost:8080/"
        },
        "outputId": "10b8c994-a023-476e-8c98-c58e8fc04144"
      },
      "source": [
        "#labels_train_hidden:\n",
        "#تمام لیبل ها حتی هیدن ها،برای استفاده در اکتیولرنینگ\n",
        "labels_train_hidden=torch.hstack((labels[Random_idx_train],labels[hiddenIndex_train]))\n",
        "labels_train_hidden.shape"
      ],
      "execution_count": 15,
      "outputs": [
        {
          "output_type": "execute_result",
          "data": {
            "text/plain": [
              "torch.Size([500])"
            ]
          },
          "metadata": {
            "tags": []
          },
          "execution_count": 15
        }
      ]
    },
    {
      "cell_type": "code",
      "metadata": {
        "id": "8SkfjGpTMeVw"
      },
      "source": [
        "#labels_train_hidden"
      ],
      "execution_count": 16,
      "outputs": []
    },
    {
      "cell_type": "code",
      "metadata": {
        "colab": {
          "base_uri": "https://localhost:8080/"
        },
        "id": "8OE8yFZhkFvI",
        "outputId": "5ae6d3e7-1ad8-4159-a1f7-166fd83bb942"
      },
      "source": [
        "labels[Random_idx_train]"
      ],
      "execution_count": 17,
      "outputs": [
        {
          "output_type": "execute_result",
          "data": {
            "text/plain": [
              "tensor([ 1,  2,  3,  4,  5,  6,  7,  8,  9, 10,  1,  2,  3,  4,  5,  6,  7,  8,\n",
              "         9, 10,  1,  2,  3,  4,  5,  6,  7,  8,  9, 10,  1,  2,  3,  4,  5,  6,\n",
              "         7,  8,  9, 10,  1,  2,  3,  4,  5,  6,  7,  8,  9, 10,  1,  2,  3,  4,\n",
              "         5,  6,  7,  8,  9, 10,  1,  2,  3,  4,  5,  6,  7,  8,  9, 10,  1,  2,\n",
              "         3,  4,  5,  6,  7,  8,  9, 10,  1,  2,  3,  4,  5,  6,  7,  8,  9, 10,\n",
              "         1,  2,  3,  4,  5,  6,  7,  8,  9, 10])"
            ]
          },
          "metadata": {
            "tags": []
          },
          "execution_count": 17
        }
      ]
    },
    {
      "cell_type": "code",
      "metadata": {
        "id": "bOr1K7YJm7td"
      },
      "source": [
        "#labels[Random_idx_train]==labels_train_hidden[0:10*N_shot]\n",
        "#labels[hiddenIndex_train]==labels_train_hidden[10*N_shot:10*N_shot*4+10*N_shot]"
      ],
      "execution_count": 18,
      "outputs": []
    },
    {
      "cell_type": "code",
      "metadata": {
        "id": "xo58EqipMk_m"
      },
      "source": [
        "#labels_train=labels_train_hidden\n",
        "#با توجه به اینکه از هر کلاس چند تا سمپل انتخاب کردیم از شماره آخری بقیه مربوط به هیدن ها میشود که صفر میذاریم\n",
        "#labels_train[10*N_shot+1:]=0"
      ],
      "execution_count": 19,
      "outputs": []
    },
    {
      "cell_type": "code",
      "metadata": {
        "id": "btpV4dc2Mnyc"
      },
      "source": [
        "#labels_train"
      ],
      "execution_count": 20,
      "outputs": []
    },
    {
      "cell_type": "code",
      "metadata": {
        "id": "yt6_cLWoMsTH"
      },
      "source": [
        "#labels_train_hidden"
      ],
      "execution_count": 21,
      "outputs": []
    },
    {
      "cell_type": "code",
      "metadata": {
        "id": "O7Lwde1zkTe9"
      },
      "source": [
        "labels_train=labels_train_hidden.detach().clone()\n",
        "#با توجه به اینکه از هر کلاس چند تا سمپل انتخاب کردیم از شماره آخری بقیه مربوط به هیدن ها میشود که صفر میذاریم\n",
        "labels_train[10*N_shot:]=0"
      ],
      "execution_count": 22,
      "outputs": []
    },
    {
      "cell_type": "code",
      "metadata": {
        "id": "EU2yK_3RM6Cl"
      },
      "source": [
        "#labels_train_hidden"
      ],
      "execution_count": 23,
      "outputs": []
    },
    {
      "cell_type": "code",
      "metadata": {
        "id": "EteMi10CkrbR"
      },
      "source": [
        "#labels_train"
      ],
      "execution_count": 24,
      "outputs": []
    },
    {
      "cell_type": "code",
      "metadata": {
        "colab": {
          "base_uri": "https://localhost:8080/"
        },
        "id": "FiNVOiOZf9OM",
        "outputId": "436c5ec4-6240-42bd-bc9a-ca00dd488940"
      },
      "source": [
        "#ایجاد ماتریس ویژگی ها از داده های با لیبل و بدون لیبل\n",
        "features_train=torch.vstack((features[Random_idx_train],features[hiddenIndex_train]))\n",
        "features_train.shape"
      ],
      "execution_count": 25,
      "outputs": [
        {
          "output_type": "execute_result",
          "data": {
            "text/plain": [
              "torch.Size([500, 767])"
            ]
          },
          "metadata": {
            "tags": []
          },
          "execution_count": 25
        }
      ]
    },
    {
      "cell_type": "code",
      "metadata": {
        "colab": {
          "base_uri": "https://localhost:8080/"
        },
        "id": "R6bLiV3Ynb0l",
        "outputId": "8745d1f7-b903-4f52-f80e-4afc75638fc0"
      },
      "source": [
        "features_train[0:10*N_shot]==features[Random_idx_train]\n",
        "features_train[10*N_shot:10*N_shot*4+10*N_shot]==features[hiddenIndex_train]"
      ],
      "execution_count": 26,
      "outputs": [
        {
          "output_type": "execute_result",
          "data": {
            "text/plain": [
              "tensor([[True, True, True,  ..., True, True, True],\n",
              "        [True, True, True,  ..., True, True, True],\n",
              "        [True, True, True,  ..., True, True, True],\n",
              "        ...,\n",
              "        [True, True, True,  ..., True, True, True],\n",
              "        [True, True, True,  ..., True, True, True],\n",
              "        [True, True, True,  ..., True, True, True]])"
            ]
          },
          "metadata": {
            "tags": []
          },
          "execution_count": 26
        }
      ]
    },
    {
      "cell_type": "code",
      "metadata": {
        "id": "28I52FrOiii1"
      },
      "source": [
        "#adj[1:10*N_shot,1:10*N_shot].shape"
      ],
      "execution_count": 27,
      "outputs": []
    },
    {
      "cell_type": "code",
      "metadata": {
        "id": "i4x-xGrv0Sw0"
      },
      "source": [
        "#ایجاد ماتریس مجاورت از داده های با لیبل و بدون لیبل\n",
        "adj_train=torch.vstack((adj[Random_idx_train],adj[hiddenIndex_train]))\n",
        "\n",
        "for i in hiddenIndex_train :\n",
        "    Random_idx_train.append(i)\n",
        "    \n",
        "#ایجاد تقارن در ماتریس مجاورت\n",
        "adj_train=adj_train[0:10*N_shot*4+10*N_shot,Random_idx_train]"
      ],
      "execution_count": 28,
      "outputs": []
    },
    {
      "cell_type": "code",
      "metadata": {
        "id": "M7_IwfbRKIt_"
      },
      "source": [
        "#adj_train.shape"
      ],
      "execution_count": 29,
      "outputs": []
    },
    {
      "cell_type": "code",
      "metadata": {
        "id": "kerWgiRDBcDP"
      },
      "source": [
        "#Random_idx_train[2]"
      ],
      "execution_count": 30,
      "outputs": []
    },
    {
      "cell_type": "code",
      "metadata": {
        "id": "uCpOOU5-83cf"
      },
      "source": [
        "#adj[717].shape"
      ],
      "execution_count": 31,
      "outputs": []
    },
    {
      "cell_type": "code",
      "metadata": {
        "id": "S4yLSWzV83Z6"
      },
      "source": [
        "#adj_train[0].shape"
      ],
      "execution_count": 32,
      "outputs": []
    },
    {
      "cell_type": "code",
      "metadata": {
        "id": "08hYvuat7Z5w"
      },
      "source": [
        "#adj[782,782]\n",
        "#adj[30,30]"
      ],
      "execution_count": 33,
      "outputs": []
    },
    {
      "cell_type": "markdown",
      "metadata": {
        "id": "elrp9c9FTi2w"
      },
      "source": [
        "#Constructing Test data"
      ]
    },
    {
      "cell_type": "code",
      "metadata": {
        "id": "jorUo0cyTv7o"
      },
      "source": [
        "##داده های تست و اعتبارسنجی نیز دقیقا مشابه داده های آموزش ایجاد می شوند##\n",
        "\n",
        "#20% of test data for labeled\n",
        "#80% of test data for unlabeled\n",
        "\n",
        "p_test = lambda x: x*len(idx_test)/100\n",
        "\n",
        "idx_labeled_test =range(round(p_test(20)))\n",
        "idx_unlabeled_test = range(idx_labeled_test[-1],idx_labeled_test[-1]+round(p_test(80)))\n"
      ],
      "execution_count": 34,
      "outputs": []
    },
    {
      "cell_type": "code",
      "metadata": {
        "colab": {
          "base_uri": "https://localhost:8080/"
        },
        "id": "2ZR91mjVTv7q",
        "outputId": "7b890d36-e99a-40c4-966c-b1d0cb3b904f"
      },
      "source": [
        "print(idx_labeled_test,idx_unlabeled_test)"
      ],
      "execution_count": 35,
      "outputs": [
        {
          "output_type": "stream",
          "text": [
            "range(0, 550) range(549, 2749)\n"
          ],
          "name": "stdout"
        }
      ]
    },
    {
      "cell_type": "code",
      "metadata": {
        "id": "eRdkBXRUTv7s"
      },
      "source": [
        "#اندیس مربوط به هر کلاسی را جدا می کنیم\n",
        "class_1=[i for i,x in enumerate(labels[idx_labeled_test]) if x==1] \n",
        "class_2=[i for i,x in enumerate(labels[idx_labeled_test]) if x==2] \n",
        "class_3=[i for i,x in enumerate(labels[idx_labeled_test]) if x==3]\n",
        "class_4=[i for i,x in enumerate(labels[idx_labeled_test]) if x==4] \n",
        "class_5=[i for i,x in enumerate(labels[idx_labeled_test]) if x==5] \n",
        "class_6=[i for i,x in enumerate(labels[idx_labeled_test]) if x==6] \n",
        "class_7=[i for i,x in enumerate(labels[idx_labeled_test]) if x==7] \n",
        "class_8=[i for i,x in enumerate(labels[idx_labeled_test]) if x==8] \n",
        "class_9=[i for i,x in enumerate(labels[idx_labeled_test]) if x==9] \n",
        "class_10=[i for i,x in enumerate(labels[idx_labeled_test]) if x==10] "
      ],
      "execution_count": 36,
      "outputs": []
    },
    {
      "cell_type": "code",
      "metadata": {
        "id": "3AE5Sw2ZTv7t"
      },
      "source": [
        "# از هر کلاسی بتوانیم به صورت رندوم سمپل انتخاب کنیم\n",
        "import random\n",
        "Random_idx_test=[]\n",
        "\n",
        "for i in range(N_shot):\n",
        "  Random_idx_test.append(random.choice(class_1))\n",
        "  Random_idx_test.append(random.choice(class_2))\n",
        "  Random_idx_test.append(random.choice(class_3))\n",
        "  Random_idx_test.append(random.choice(class_4))\n",
        "  Random_idx_test.append(random.choice(class_5))\n",
        "  Random_idx_test.append(random.choice(class_6))\n",
        "  Random_idx_test.append(random.choice(class_7))\n",
        "  Random_idx_test.append(random.choice(class_8))\n",
        "  Random_idx_test.append(random.choice(class_9))\n",
        "  Random_idx_test.append(random.choice(class_10))\n",
        "\n",
        "#Random_idx_test#اندیس "
      ],
      "execution_count": 37,
      "outputs": []
    },
    {
      "cell_type": "code",
      "metadata": {
        "id": "Rv7SWldYTv7u"
      },
      "source": [
        "#اگر بخواهیم از هر کلاس یک سمپل انتخاب کنیم مجموعا 10 سمپل با لیبل داریم \n",
        "#اگر بخواهیم نسبت 20 به 80 را ارعایت کنیم پس لازم است 40 داده بدون لیبل هم انتخاب کنیم\n",
        "\n",
        "hiddenIndex_test=[]\n",
        "\n",
        "for i in range(40*N_shot):\n",
        "  hiddenIndex_test.append(random.choice(idx_unlabeled_test))\n",
        "#hiddenIndex_test "
      ],
      "execution_count": 38,
      "outputs": []
    },
    {
      "cell_type": "code",
      "metadata": {
        "colab": {
          "base_uri": "https://localhost:8080/"
        },
        "id": "kDcysoakTv7v",
        "outputId": "a59acbdb-662b-4df0-80a6-ef7f4acbf14c"
      },
      "source": [
        "labels_test_hidden=torch.hstack((labels[Random_idx_test],labels[hiddenIndex_test]))\n",
        "labels_test_hidden.shape"
      ],
      "execution_count": 39,
      "outputs": [
        {
          "output_type": "execute_result",
          "data": {
            "text/plain": [
              "torch.Size([500])"
            ]
          },
          "metadata": {
            "tags": []
          },
          "execution_count": 39
        }
      ]
    },
    {
      "cell_type": "code",
      "metadata": {
        "id": "XRnuyYHiTv7w"
      },
      "source": [
        "labels_test=labels_test_hidden.detach().clone()\n",
        "#با توجه به اینکه از هر کلاس چند تا سمپل انتخاب کردیم از شماره آخری بقیه مربوط به هیدن ها میشود که صفر میذاریم\n",
        "labels_test[10*N_shot:]=0"
      ],
      "execution_count": 40,
      "outputs": []
    },
    {
      "cell_type": "code",
      "metadata": {
        "id": "e7ICA7fEEztv"
      },
      "source": [
        "#labels_test"
      ],
      "execution_count": 41,
      "outputs": []
    },
    {
      "cell_type": "code",
      "metadata": {
        "id": "SWejgHLyE3qT"
      },
      "source": [
        "#labels_test_hidden"
      ],
      "execution_count": 42,
      "outputs": []
    },
    {
      "cell_type": "code",
      "metadata": {
        "colab": {
          "base_uri": "https://localhost:8080/"
        },
        "id": "xtqi7LwXTv7x",
        "outputId": "34820276-b9d8-41c6-da4d-91d973640b7e"
      },
      "source": [
        "features_test=torch.vstack((features[Random_idx_test],features[hiddenIndex_test]))\n",
        "features_test.shape"
      ],
      "execution_count": 43,
      "outputs": [
        {
          "output_type": "execute_result",
          "data": {
            "text/plain": [
              "torch.Size([500, 767])"
            ]
          },
          "metadata": {
            "tags": []
          },
          "execution_count": 43
        }
      ]
    },
    {
      "cell_type": "code",
      "metadata": {
        "colab": {
          "base_uri": "https://localhost:8080/"
        },
        "id": "xnW1mVA5Tv7y",
        "outputId": "06673e7e-8115-4dbc-d632-9cb07a4843f8"
      },
      "source": [
        "features_test[0:10*N_shot]==features[Random_idx_test]\n",
        "features_test[10*N_shot:10*N_shot*4+10*N_shot]==features[hiddenIndex_test]"
      ],
      "execution_count": 44,
      "outputs": [
        {
          "output_type": "execute_result",
          "data": {
            "text/plain": [
              "tensor([[True, True, True,  ..., True, True, True],\n",
              "        [True, True, True,  ..., True, True, True],\n",
              "        [True, True, True,  ..., True, True, True],\n",
              "        ...,\n",
              "        [True, True, True,  ..., True, True, True],\n",
              "        [True, True, True,  ..., True, True, True],\n",
              "        [True, True, True,  ..., True, True, True]])"
            ]
          },
          "metadata": {
            "tags": []
          },
          "execution_count": 44
        }
      ]
    },
    {
      "cell_type": "code",
      "metadata": {
        "id": "U3CLd-KVTv7z"
      },
      "source": [
        "adj_test=torch.vstack((adj[Random_idx_test],adj[hiddenIndex_test]))\n",
        "\n",
        "for i in hiddenIndex_test :\n",
        "    Random_idx_test.append(i)\n",
        "\n",
        "adj_test=adj_test[0:10*N_shot*4+10*N_shot,Random_idx_test]"
      ],
      "execution_count": 45,
      "outputs": []
    },
    {
      "cell_type": "markdown",
      "metadata": {
        "id": "Dyz6oDB6Yyuf"
      },
      "source": [
        "#Constructing Validation Data"
      ]
    },
    {
      "cell_type": "code",
      "metadata": {
        "id": "dRkhidE6YWTu"
      },
      "source": [
        "#20% of val data for labeled\n",
        "#80% of val data for unlabeled\n",
        "\n",
        "p_val = lambda x: x*len(idx_val)/100\n",
        "\n",
        "idx_labeled_val =range(round(p_val(20)))\n",
        "idx_unlabeled_val = range(idx_labeled_val[-1],idx_labeled_val[-1]+round(p_val(80)))\n"
      ],
      "execution_count": 46,
      "outputs": []
    },
    {
      "cell_type": "code",
      "metadata": {
        "colab": {
          "base_uri": "https://localhost:8080/"
        },
        "id": "jqHcKhKYYWTw",
        "outputId": "63dd7373-df72-4216-dc94-c03fe6a8d8ab"
      },
      "source": [
        "print(idx_labeled_val,idx_unlabeled_val)"
      ],
      "execution_count": 47,
      "outputs": [
        {
          "output_type": "stream",
          "text": [
            "range(0, 825) range(824, 4125)\n"
          ],
          "name": "stdout"
        }
      ]
    },
    {
      "cell_type": "code",
      "metadata": {
        "id": "hR67HnajYWUE"
      },
      "source": [
        "#اندیس مربوط به هر کلاسی را جدا می کنیم\n",
        "class_1=[i for i,x in enumerate(labels[idx_labeled_val]) if x==1] \n",
        "class_2=[i for i,x in enumerate(labels[idx_labeled_val]) if x==2] \n",
        "class_3=[i for i,x in enumerate(labels[idx_labeled_val]) if x==3]\n",
        "class_4=[i for i,x in enumerate(labels[idx_labeled_val]) if x==4] \n",
        "class_5=[i for i,x in enumerate(labels[idx_labeled_val]) if x==5] \n",
        "class_6=[i for i,x in enumerate(labels[idx_labeled_val]) if x==6] \n",
        "class_7=[i for i,x in enumerate(labels[idx_labeled_val]) if x==7] \n",
        "class_8=[i for i,x in enumerate(labels[idx_labeled_val]) if x==8] \n",
        "class_9=[i for i,x in enumerate(labels[idx_labeled_val]) if x==9] \n",
        "class_10=[i for i,x in enumerate(labels[idx_labeled_val]) if x==10] "
      ],
      "execution_count": 48,
      "outputs": []
    },
    {
      "cell_type": "code",
      "metadata": {
        "id": "M9H3cAsQYWUF"
      },
      "source": [
        "# از هر کلاسی بتوانیم به صورت رندوم سمپل انتخاب کنیم\n",
        "import random\n",
        "Random_idx_val=[]\n",
        "\n",
        "for i in range(N_shot):\n",
        "  Random_idx_val.append(random.choice(class_1))\n",
        "  Random_idx_val.append(random.choice(class_2))\n",
        "  Random_idx_val.append(random.choice(class_3))\n",
        "  Random_idx_val.append(random.choice(class_4))\n",
        "  Random_idx_val.append(random.choice(class_5))\n",
        "  Random_idx_val.append(random.choice(class_6))\n",
        "  Random_idx_val.append(random.choice(class_7))\n",
        "  Random_idx_val.append(random.choice(class_8))\n",
        "  Random_idx_val.append(random.choice(class_9))\n",
        "  Random_idx_val.append(random.choice(class_10))\n",
        "\n",
        "#Random_idx_val#اندیس "
      ],
      "execution_count": 49,
      "outputs": []
    },
    {
      "cell_type": "code",
      "metadata": {
        "id": "0eRUuhJqYWUH"
      },
      "source": [
        "#اگر بخواهیم از هر کلاس یک سمپل انتخاب کنیم مجموعا 10 سمپل با لیبل داریم \n",
        "#اگر بخواهیم نسبت 20 به 80 را ارعایت کنیم پس لازم است 40 داده بدون لیبل هم انتخاب کنیم\n",
        "\n",
        "hiddenIndex_val=[]\n",
        "\n",
        "for i in range(40*N_shot):\n",
        "  hiddenIndex_val.append(random.choice(idx_unlabeled_val))\n",
        "#hiddenIndex_val "
      ],
      "execution_count": 50,
      "outputs": []
    },
    {
      "cell_type": "code",
      "metadata": {
        "colab": {
          "base_uri": "https://localhost:8080/"
        },
        "id": "GGJZ-_e4YWUI",
        "outputId": "1a132695-281d-4a94-aaf5-60943085ddbf"
      },
      "source": [
        "labels_val_hidden=torch.hstack((labels[Random_idx_val],labels[hiddenIndex_val]))\n",
        "labels_val_hidden.shape"
      ],
      "execution_count": 51,
      "outputs": [
        {
          "output_type": "execute_result",
          "data": {
            "text/plain": [
              "torch.Size([500])"
            ]
          },
          "metadata": {
            "tags": []
          },
          "execution_count": 51
        }
      ]
    },
    {
      "cell_type": "code",
      "metadata": {
        "id": "KEhEarXCYWUI"
      },
      "source": [
        "labels_val=labels_val_hidden.detach().clone()\n",
        "#با توجه به اینکه از هر کلاس چند تا سمپل انتخاب کردیم از شماره آخری بقیه مربوط به هیدن ها میشود که صفر میذاریم\n",
        "labels_val[10*N_shot:]=0"
      ],
      "execution_count": 52,
      "outputs": []
    },
    {
      "cell_type": "code",
      "metadata": {
        "colab": {
          "base_uri": "https://localhost:8080/"
        },
        "id": "3F00cnT2YWUJ",
        "outputId": "59c21b86-ffa3-419f-93de-c2670f37357d"
      },
      "source": [
        "features_val=torch.vstack((features[Random_idx_val],features[hiddenIndex_val]))\n",
        "features_val.shape"
      ],
      "execution_count": 53,
      "outputs": [
        {
          "output_type": "execute_result",
          "data": {
            "text/plain": [
              "torch.Size([500, 767])"
            ]
          },
          "metadata": {
            "tags": []
          },
          "execution_count": 53
        }
      ]
    },
    {
      "cell_type": "code",
      "metadata": {
        "colab": {
          "base_uri": "https://localhost:8080/"
        },
        "id": "_oHe-7abYWUK",
        "outputId": "872d2b05-d10e-431e-937c-b0df65787a39"
      },
      "source": [
        "features_val[0:10*N_shot]==features[Random_idx_val]\n",
        "features_val[10*N_shot:10*N_shot*4+10*N_shot]==features[hiddenIndex_val]"
      ],
      "execution_count": 54,
      "outputs": [
        {
          "output_type": "execute_result",
          "data": {
            "text/plain": [
              "tensor([[True, True, True,  ..., True, True, True],\n",
              "        [True, True, True,  ..., True, True, True],\n",
              "        [True, True, True,  ..., True, True, True],\n",
              "        ...,\n",
              "        [True, True, True,  ..., True, True, True],\n",
              "        [True, True, True,  ..., True, True, True],\n",
              "        [True, True, True,  ..., True, True, True]])"
            ]
          },
          "metadata": {
            "tags": []
          },
          "execution_count": 54
        }
      ]
    },
    {
      "cell_type": "code",
      "metadata": {
        "id": "tJhiH9xIYWUL"
      },
      "source": [
        "adj_val=torch.vstack((adj[Random_idx_val],adj[hiddenIndex_val]))\n",
        "\n",
        "for i in hiddenIndex_val :\n",
        "    Random_idx_val.append(i)\n",
        "\n",
        "adj_val=adj_val[0:10*N_shot*4+10*N_shot,Random_idx_val]"
      ],
      "execution_count": 55,
      "outputs": []
    },
    {
      "cell_type": "markdown",
      "metadata": {
        "id": "3rXMvNIZF6BU"
      },
      "source": [
        "# Constructing hidden_labels"
      ]
    },
    {
      "cell_type": "code",
      "metadata": {
        "id": "GL4nZ9-pMmSM"
      },
      "source": [
        "#hidden_labels:\n",
        "#برای استفاده در قسمت اکتیولرنینگ که فقط بر روی هیدن لیبل ها اعمال شود\n",
        "#سایز آن به اندازه تعداد کل سمپل ها می باشد\n",
        "hidden_labels_train=np.zeros((10*N_shot*4+10*N_shot), dtype='int')\n",
        "hidden_labels_train[10*N_shot:10*N_shot*4+10*N_shot]=1\n",
        "#RuntimeError: Can't call numpy() on Tensor that requires grad. Use tensor.detach().numpy() instead. site:stackoverflow.com\n",
        "#برای همین به تنسور تبدیلش کردم\n",
        "hidden_labels_train=torch.tensor(hidden_labels_train)\n",
        "#hidden_labels_train"
      ],
      "execution_count": 56,
      "outputs": []
    },
    {
      "cell_type": "code",
      "metadata": {
        "id": "sSwwuzUJFR1n"
      },
      "source": [
        "hidden_labels_test=np.zeros((10*N_shot*4+10*N_shot), dtype='int')\n",
        "hidden_labels_test[10*N_shot:10*N_shot*4+10*N_shot]=1\n",
        "hidden_labels_test=torch.tensor(hidden_labels_test)\n",
        "#hidden_labels_test"
      ],
      "execution_count": 57,
      "outputs": []
    },
    {
      "cell_type": "code",
      "metadata": {
        "id": "46SwJE2eFRj4"
      },
      "source": [
        "hidden_labels_val=np.zeros((10*N_shot*4+10*N_shot), dtype='int')\n",
        "hidden_labels_val[10*N_shot:10*N_shot*4+10*N_shot]=1\n",
        "hidden_labels_val=torch.tensor(hidden_labels_val)\n",
        "#hidden_labels_val"
      ],
      "execution_count": 58,
      "outputs": []
    },
    {
      "cell_type": "code",
      "metadata": {
        "colab": {
          "base_uri": "https://localhost:8080/"
        },
        "id": "W7zL2lQQRV9V",
        "outputId": "94bebd0f-3252-48e2-9dc4-4154937582eb"
      },
      "source": [
        "hidden_labels_val.shape"
      ],
      "execution_count": 59,
      "outputs": [
        {
          "output_type": "execute_result",
          "data": {
            "text/plain": [
              "torch.Size([500])"
            ]
          },
          "metadata": {
            "tags": []
          },
          "execution_count": 59
        }
      ]
    },
    {
      "cell_type": "markdown",
      "metadata": {
        "id": "ScJWIK7yGDcY"
      },
      "source": [
        "#Layers"
      ]
    },
    {
      "cell_type": "code",
      "metadata": {
        "id": "us3XSHLHDWoP"
      },
      "source": [
        "\n",
        "import math\n",
        "\n",
        "import torch\n",
        "\n",
        "from torch.nn.parameter import Parameter\n",
        "\n",
        "#class parameter:\n",
        "#پارامترها را کش می کند\n",
        "\n",
        "from torch.nn.modules.module import Module\n",
        "\n",
        "\n",
        "class GraphConvolution(Module):\n",
        "    \"\"\"\n",
        "    Simple GCN layer, similar to https://arxiv.org/abs/1609.02907\n",
        "    \"\"\"\n",
        "\n",
        "    def __init__(self, in_features ,out_features, bias=True):\n",
        "        super(GraphConvolution, self).__init__()\n",
        "        self.in_features = in_features\n",
        "        self.out_features = out_features\n",
        "        \n",
        "        self.weight = Parameter(torch.FloatTensor(in_features, out_features))\n",
        "        if bias:\n",
        "            self.bias = Parameter(torch.FloatTensor(out_features))\n",
        "        else:\n",
        "            self.register_parameter('bias', None)\n",
        "        self.reset_parameters()\n",
        "\n",
        "    def reset_parameters(self):\n",
        "        stdv = 1. / math.sqrt(self.weight.size(1))\n",
        "        self.weight.data.uniform_(-stdv, stdv)\n",
        "        if self.bias is not None:\n",
        "            self.bias.data.uniform_(-stdv, stdv)\n",
        "\n",
        "    def forward(self, input, input_adj):\n",
        "        support = torch.mm(input, self.weight)\n",
        "        #torch.mm=matrix multiplication\n",
        "        #torch.spmm=Sparse matrix multiplication\n",
        "        #ضرب ویژگی ها در ماتریس مجاورت\n",
        "        output = torch.spmm(input_adj, support)\n",
        "        if self.bias is not None:\n",
        "            return output + self.bias\n",
        "        else:\n",
        "            return output\n"
      ],
      "execution_count": 60,
      "outputs": []
    },
    {
      "cell_type": "markdown",
      "metadata": {
        "id": "4vTcR4OmGJIR"
      },
      "source": [
        "#Model"
      ]
    },
    {
      "cell_type": "code",
      "metadata": {
        "id": "RXDaJHg7DeHl"
      },
      "source": [
        "\n",
        "import torch.nn as nn\n",
        "import torch.nn.functional as F\n",
        "\n",
        "class GCN(nn.Module):\n",
        "    def __init__(self, nfeat, nhid,nclass, dropout):\n",
        "        super(GCN, self).__init__()\n",
        "\n",
        "        self.gc1 = GraphConvolution(nfeat, nhid)\n",
        "        self.gc2 = GraphConvolution(nhid, nclass)\n",
        "        self.dropout = dropout\n",
        "        #self.mode=mode\n",
        "        \n",
        "    def forward(self, x, input_adj,hidden_labels):\n",
        "        #if N-shot=10 then samples=500\n",
        "        #features_num=767\n",
        "        #x.shape=500*767\n",
        "        #samples=500,features=767\n",
        "        x = F.relu(self.gc1(x, input_adj))\n",
        "        #x.shape=500*16\n",
        "        #hidden_unit=16\n",
        "        x = F.dropout(x, self.dropout,training=self.training)\n",
        "        #training=self.training parameter of drop out func\n",
        "        #x.shape=500*16\n",
        "        #hidden_unit=16\n",
        "        #طبق مقاله مربوط به اکتیولرنینگ بعد از لایه اول اکتیو لرنینگ را اجرا می کنیم تا تصمیم گیری شود که لیبل کدام یک از داده های هیدن را اضافه کنیم\n",
        "        x,decision=self.active(x,hidden_labels)\n",
        "        x = self.gc2(x, input_adj)\n",
        "        #x.shape=500*11\n",
        "        #class_num=11\n",
        "        return F.log_softmax(x, dim=1),decision\n",
        "\n",
        "    def active(self, x,hidden):\n",
        "        #x.shape=500*16\n",
        "        x_active = torch.transpose(x, 0, 1) \n",
        "        x_active=x_active.unsqueeze_(0)\n",
        "        #unsqueeze_داده 2 بعدی را به 3 بعدی تبدیل می کند و بعد اول را 1 می کند\n",
        "        #این کار را برای آنکه لایه کانولوشن درست کار کند انجام دادم\n",
        "        #x_active.shape=1*16*500\n",
        "        #x_active.shape[1]=16\n",
        "\n",
        "        conv_active_1 = nn.Conv1d(x_active.shape[1],x_active.shape[1],1)\n",
        "        bn_active = nn.BatchNorm1d(x_active.shape[1])\n",
        "        conv_active_2 = nn.Conv1d(x_active.shape[1],1,1)\n",
        "\n",
        "        x_active = conv_active_1(x_active)\n",
        "        #x_active.shape=1*16*500\n",
        "        x_active = F.leaky_relu(bn_active(x_active))\n",
        "        #x_active.shape=1*16*500\n",
        "        x_active = conv_active_2(x_active)\n",
        "        #x_active.shape=1*1*500 \n",
        "        x_active = torch.transpose(x_active, 0, 1) \n",
        "        x_active = x_active.squeeze(0) \n",
        "        #x_active.shape=1*500 \n",
        "        #squeeze_ داده 3 بعدی را به 2 بعدی تبدیل می کند و مجدداورودی به حالت اول بر می گردد\n",
        "\n",
        "        #x_active = x_active - (1-hidden)*1e8\n",
        "        x_active = F.softmax(x_active)\n",
        "        #x_active.shape=1*500 \n",
        "        \n",
        "        #برای آنکه فقط روی هیدن لیبل ها تصمیم گیری شود، با ضرب زیر مقدار مربوط به سمپل های با لیبل صفر می شود\n",
        "        x_active = x_active*hidden \n",
        "        decision = torch.argmax(x_active)\n",
        "        \n",
        "        return x,int(decision)"
      ],
      "execution_count": 61,
      "outputs": []
    },
    {
      "cell_type": "markdown",
      "metadata": {
        "id": "xYdsEgftGRS8"
      },
      "source": [
        "#Train"
      ]
    },
    {
      "cell_type": "code",
      "metadata": {
        "colab": {
          "base_uri": "https://localhost:8080/",
          "height": 1000
        },
        "id": "kAvN1C2QDq89",
        "outputId": "95a81849-b26d-44cc-eb43-d5623cf60421"
      },
      "source": [
        "\n",
        "from __future__ import division\n",
        "from __future__ import print_function\n",
        "import time\n",
        "import argparse\n",
        "import matplotlib.pyplot as plt\n",
        "import torch.nn.functional as F\n",
        "import torch.optim as optim\n",
        "\n",
        "\n",
        "# Training settings\n",
        "\n",
        "parser = argparse.ArgumentParser()\n",
        "parser.add_argument('--no-cuda', action='store_true', default=False,\n",
        "                    help='Disables CUDA training.')\n",
        "parser.add_argument('--fastmode', action='store_true', default=False,\n",
        "                    help='Validate during training pass.')\n",
        "parser.add_argument('--seed', type=int, default=42, help='Random seed.')\n",
        "parser.add_argument('--epochs', type=int, default=80,\n",
        "                    help='Number of epochs to train.')\n",
        "parser.add_argument('--lr', type=float, default=0.01,\n",
        "                    help='Initial learning rate.')\n",
        "parser.add_argument('--weight_decay', type=float, default=5e-4,\n",
        "                    help='Weight decay (L2 loss on parameters).')\n",
        "parser.add_argument('--hidden', type=int, default=16,\n",
        "                    help='Number of hidden units.')\n",
        "parser.add_argument('--dropout', type=float, default=0.5,\n",
        "                    help='Dropout rate (1 - keep probability).')\n",
        "\n",
        "#args = parser.parse_args()\n",
        "#error midad khate bala,khate paein jaigozin shod\n",
        "\n",
        "args = parser.parse_known_args()[0]\n",
        "\n",
        "args.cuda = not args.no_cuda and torch.cuda.is_available()\n",
        "\n",
        "np.random.seed(args.seed)\n",
        "torch.manual_seed(args.seed)\n",
        "if args.cuda:\n",
        "    torch.cuda.manual_seed(args.seed)\n",
        "\n",
        "\n",
        "# Model and optimizer\n",
        "model = GCN(nfeat=features.shape[1],\n",
        "            nhid=args.hidden,\n",
        "            nclass=class_names.size+1,\n",
        "            #بدلیل صفر کردن لیبل هیدن ها تعداد کلاسها یکی بیشتر میشود\n",
        "            dropout=args.dropout)\n",
        "\n",
        "optimizer = optim.Adam(model.parameters(),\n",
        "                       lr=args.lr, weight_decay=args.weight_decay)\n",
        "\n",
        "# to set cuda as your device if possible\n",
        "#training on  GPU\n",
        "\n",
        "if args.cuda:\n",
        "    model.cuda()\n",
        "    features = features.cuda()\n",
        "    #adj_test = adj_test.cuda()\n",
        "    #labels_test = labels_test.cuda()\n",
        "    #features_train = features_train.cuda()\n",
        "    #adj_train = adj_train.cuda()\n",
        "    #labels_train = labels_train.cuda()\n",
        "    #features_val = features_val.cuda()\n",
        "    #adj_val = adj_val.cuda()\n",
        "    #labels_val = labels_val.cuda()\n",
        "    # train:adjust the weights on the neural network\n",
        "    # validation:used to minimize overfitting\n",
        " \n",
        "def test(): \n",
        "    model.eval()\n",
        "    output,act_dec = model(features_test,adj_test,hidden_labels_test)\n",
        "    \n",
        "    #مقدار تصمیم گیری شده در اکتیولرنینگ یک اندیس از هیدن لیبل هاست که بیشترین تاثیر در بهبود خطاهای شبکه را دارد\n",
        "    #(در واقع مقدارش را صفر میکنیم)لیبل آن را بدست آورده و به لیبل ها اضافه می کنیمو از هیدن ها هم آن را حذف میکنیم\n",
        "    Uncover_label=labels_test_hidden[act_dec]\n",
        "    labels_test[act_dec]=Uncover_label\n",
        "    hidden_labels_test[act_dec]=0\n",
        "\n",
        "    loss_test = F.nll_loss(output, labels_test)\n",
        "    acc_test = accuracy(output, labels_test)\n",
        "    print(\"Test set results:\",\n",
        "          \"loss= {:.4f}\".format(loss_test.item()),\n",
        "          \"accuracy= {:.4f}\".format(acc_test.item()),\n",
        "          act_dec)\n",
        "\n",
        "def train(epoch):\n",
        "  model.train()\n",
        "  optimizer.zero_grad()\n",
        "  output,act_dec = model(features_train,adj_train,hidden_labels_train)\n",
        "\n",
        "  Uncover_label=labels_train_hidden[act_dec]\n",
        "  labels_train[act_dec]=Uncover_label\n",
        "  hidden_labels_train[act_dec]=0\n",
        "\n",
        "  loss_train = F.nll_loss(output, labels_train)\n",
        "  acc_train = accuracy(output,labels_train)\n",
        "  # Computing the gradients necessary to adjust the weights\n",
        "  loss_train.backward()\n",
        "  # Updating the weights of the neural network\n",
        "  optimizer.step()\n",
        "  losses.append(loss_train.item())\n",
        "  acc.append(acc_train.item())\n",
        "\n",
        "  if not args.fastmode:\n",
        "    # Evaluate validation set performance separately,\n",
        "    # deactivates dropout during validation run.\n",
        "    model.eval()\n",
        "    output,act_dec = model(features_val, adj_val,hidden_labels_val)\n",
        "    \n",
        "    Uncover_label=labels_val_hidden[act_dec]\n",
        "    labels_val[act_dec]=Uncover_label\n",
        "    hidden_labels_val[act_dec]=0\n",
        "  \n",
        "    loss_val = F.nll_loss(output, labels_val)\n",
        "    acc_val = accuracy(output, labels_val)\n",
        "    losses_val.append(loss_val.item())\n",
        "    acc_valid.append(acc_val.item())\n",
        "\n",
        "    print('Epoch: {:04d}'.format(epoch+1),\n",
        "          'loss_train: {:.4f}'.format(loss_train.item()),\n",
        "          'acc_train: {:.4f}'.format(acc_train.item()),\n",
        "          'loss_val: {:.4f}'.format(loss_val.item()),\n",
        "          'acc_val: {:.4f}'.format(acc_val.item()),\n",
        "          'time: {:.4f}s'.format(time.time() - t),\n",
        "          act_dec)\n",
        "\n",
        "# Train model\n",
        "t_total = time.time()\n",
        "losses = []\n",
        "acc=[]\n",
        "losses_val = []\n",
        "acc_valid=[]\n",
        "t = time.time()\n",
        "for epoch in range(args.epochs):\n",
        "    train(epoch)\n",
        "\n",
        "# Testing\n",
        "test()\n",
        "\n",
        "print(model)\n",
        "\n",
        "#plotting loss_train_val:\n",
        "\n",
        "plt.plot(np.array(losses),label ='loss_train Plot')\n",
        "plt.plot(np.array(losses_val),label ='loss_val Plot')\n",
        "plt.title('loss_train_validation Plot')\n",
        "plt.xlabel('epoch')\n",
        "plt.ylabel('value')\n",
        "plt.legend()\n",
        "plt.show()\n",
        "\n",
        "#plotting acc_train_val:\n",
        "\n",
        "plt.plot(np.array(acc),label ='Accuracy_train Plot')\n",
        "plt.plot(np.array(acc_valid),label ='Accuracy_val Plot')\n",
        "plt.title('acc_train_validation Plot')\n",
        "plt.xlabel('epoch')\n",
        "plt.ylabel('value')\n",
        "plt.legend()\n",
        "plt.show()    \n",
        "\n",
        "print(\"Optimization Finished!\")\n",
        "print(\"Total time elapsed: {:.4f}s\".format(time.time() - t_total))\n",
        "\n"
      ],
      "execution_count": 62,
      "outputs": [
        {
          "output_type": "stream",
          "text": [
            "/usr/local/lib/python3.7/dist-packages/ipykernel_launcher.py:58: UserWarning: Implicit dimension choice for softmax has been deprecated. Change the call to include dim=X as an argument.\n"
          ],
          "name": "stderr"
        },
        {
          "output_type": "stream",
          "text": [
            "Epoch: 0001 loss_train: 2.3399 acc_train: 0.0200 loss_val: 2.2981 acc_val: 0.1300 time: 0.0098s 383\n",
            "Epoch: 0002 loss_train: 2.3015 acc_train: 0.1340 loss_val: 2.2694 acc_val: 0.3120 time: 0.0180s 462\n",
            "Epoch: 0003 loss_train: 2.2702 acc_train: 0.3100 loss_val: 2.2368 acc_val: 0.7780 time: 0.0274s 165\n",
            "Epoch: 0004 loss_train: 2.2356 acc_train: 0.7440 loss_val: 2.2042 acc_val: 0.7880 time: 0.0365s 109\n",
            "Epoch: 0005 loss_train: 2.2563 acc_train: 0.7680 loss_val: 2.1889 acc_val: 0.7900 time: 0.0456s 398\n",
            "Epoch: 0006 loss_train: 2.2358 acc_train: 0.7860 loss_val: 2.1883 acc_val: 0.7880 time: 0.0549s 246\n",
            "Epoch: 0007 loss_train: 2.2092 acc_train: 0.7860 loss_val: 2.2138 acc_val: 0.7860 time: 0.0659s 326\n",
            "Epoch: 0008 loss_train: 2.1867 acc_train: 0.7820 loss_val: 2.2316 acc_val: 0.7840 time: 0.0734s 430\n",
            "Epoch: 0009 loss_train: 2.1140 acc_train: 0.7840 loss_val: 2.2353 acc_val: 0.7820 time: 0.0809s 125\n",
            "Epoch: 0010 loss_train: 2.1231 acc_train: 0.7800 loss_val: 2.2380 acc_val: 0.7800 time: 0.0890s 382\n",
            "Epoch: 0011 loss_train: 2.1548 acc_train: 0.7800 loss_val: 2.2300 acc_val: 0.7780 time: 0.0979s 176\n",
            "Epoch: 0012 loss_train: 2.0904 acc_train: 0.7780 loss_val: 2.2277 acc_val: 0.7760 time: 0.1076s 242\n",
            "Epoch: 0013 loss_train: 2.0590 acc_train: 0.7740 loss_val: 2.2427 acc_val: 0.7740 time: 0.1175s 402\n",
            "Epoch: 0014 loss_train: 2.0426 acc_train: 0.7720 loss_val: 2.2314 acc_val: 0.7720 time: 0.1277s 319\n",
            "Epoch: 0015 loss_train: 2.0611 acc_train: 0.7720 loss_val: 2.2209 acc_val: 0.7700 time: 0.1381s 226\n",
            "Epoch: 0016 loss_train: 2.0310 acc_train: 0.7700 loss_val: 2.2137 acc_val: 0.7680 time: 0.1499s 270\n",
            "Epoch: 0017 loss_train: 2.0784 acc_train: 0.7660 loss_val: 2.2004 acc_val: 0.7660 time: 0.1617s 450\n",
            "Epoch: 0018 loss_train: 2.0319 acc_train: 0.7660 loss_val: 2.1847 acc_val: 0.7640 time: 0.1730s 381\n",
            "Epoch: 0019 loss_train: 2.0656 acc_train: 0.7640 loss_val: 2.1682 acc_val: 0.7620 time: 0.1838s 187\n",
            "Epoch: 0020 loss_train: 1.9964 acc_train: 0.7620 loss_val: 2.1537 acc_val: 0.7600 time: 0.1944s 434\n",
            "Epoch: 0021 loss_train: 1.9999 acc_train: 0.7600 loss_val: 2.1367 acc_val: 0.7580 time: 0.2080s 427\n",
            "Epoch: 0022 loss_train: 1.9882 acc_train: 0.7560 loss_val: 2.1193 acc_val: 0.7560 time: 0.2234s 269\n",
            "Epoch: 0023 loss_train: 1.9769 acc_train: 0.7560 loss_val: 2.0994 acc_val: 0.7540 time: 0.2341s 272\n",
            "Epoch: 0024 loss_train: 1.9415 acc_train: 0.7540 loss_val: 2.0819 acc_val: 0.7520 time: 0.2452s 444\n",
            "Epoch: 0025 loss_train: 1.9491 acc_train: 0.7520 loss_val: 2.0685 acc_val: 0.7500 time: 0.2560s 253\n",
            "Epoch: 0026 loss_train: 1.9192 acc_train: 0.7520 loss_val: 2.0519 acc_val: 0.7480 time: 0.2671s 236\n",
            "Epoch: 0027 loss_train: 1.9032 acc_train: 0.7520 loss_val: 2.0343 acc_val: 0.7460 time: 0.2783s 169\n",
            "Epoch: 0028 loss_train: 1.8872 acc_train: 0.7460 loss_val: 2.0222 acc_val: 0.7440 time: 0.2895s 396\n",
            "Epoch: 0029 loss_train: 1.8787 acc_train: 0.7420 loss_val: 2.0091 acc_val: 0.7420 time: 0.3005s 145\n",
            "Epoch: 0030 loss_train: 1.8914 acc_train: 0.7420 loss_val: 1.9985 acc_val: 0.7400 time: 0.3112s 140\n",
            "Epoch: 0031 loss_train: 1.8429 acc_train: 0.7420 loss_val: 1.9902 acc_val: 0.7380 time: 0.3207s 185\n",
            "Epoch: 0032 loss_train: 1.8509 acc_train: 0.7420 loss_val: 1.9841 acc_val: 0.7380 time: 0.3298s 423\n",
            "Epoch: 0033 loss_train: 1.8241 acc_train: 0.7420 loss_val: 1.9762 acc_val: 0.7360 time: 0.3478s 332\n",
            "Epoch: 0034 loss_train: 1.8125 acc_train: 0.7420 loss_val: 1.9687 acc_val: 0.7340 time: 0.3573s 247\n",
            "Epoch: 0035 loss_train: 1.8034 acc_train: 0.7400 loss_val: 1.9552 acc_val: 0.7320 time: 0.3666s 271\n",
            "Epoch: 0036 loss_train: 1.7725 acc_train: 0.7420 loss_val: 1.9455 acc_val: 0.7340 time: 0.3758s 138\n",
            "Epoch: 0037 loss_train: 1.7963 acc_train: 0.7320 loss_val: 1.9298 acc_val: 0.7320 time: 0.3850s 420\n",
            "Epoch: 0038 loss_train: 1.7976 acc_train: 0.7340 loss_val: 1.9164 acc_val: 0.7320 time: 0.3950s 400\n",
            "Epoch: 0039 loss_train: 1.7872 acc_train: 0.7360 loss_val: 1.9023 acc_val: 0.7300 time: 0.4050s 388\n",
            "Epoch: 0040 loss_train: 1.7531 acc_train: 0.7360 loss_val: 1.8901 acc_val: 0.7280 time: 0.4160s 275\n",
            "Epoch: 0041 loss_train: 1.7424 acc_train: 0.7340 loss_val: 1.8794 acc_val: 0.7260 time: 0.4301s 365\n",
            "Epoch: 0042 loss_train: 1.7219 acc_train: 0.7300 loss_val: 1.8696 acc_val: 0.7240 time: 0.4414s 214\n",
            "Epoch: 0043 loss_train: 1.7215 acc_train: 0.7300 loss_val: 1.8600 acc_val: 0.7240 time: 0.4509s 322\n",
            "Epoch: 0044 loss_train: 1.7067 acc_train: 0.7360 loss_val: 1.8505 acc_val: 0.7220 time: 0.4613s 134\n",
            "Epoch: 0045 loss_train: 1.6985 acc_train: 0.7320 loss_val: 1.8410 acc_val: 0.7180 time: 0.4707s 193\n",
            "Epoch: 0046 loss_train: 1.6761 acc_train: 0.7340 loss_val: 1.8301 acc_val: 0.7180 time: 0.4796s 452\n",
            "Epoch: 0047 loss_train: 1.6921 acc_train: 0.7200 loss_val: 1.8167 acc_val: 0.7160 time: 0.4883s 428\n",
            "Epoch: 0048 loss_train: 1.6917 acc_train: 0.7220 loss_val: 1.7929 acc_val: 0.7140 time: 0.4973s 126\n",
            "Epoch: 0049 loss_train: 1.6452 acc_train: 0.7320 loss_val: 1.7738 acc_val: 0.7120 time: 0.5090s 224\n",
            "Epoch: 0050 loss_train: 1.6552 acc_train: 0.7200 loss_val: 1.7540 acc_val: 0.7100 time: 0.5242s 250\n",
            "Epoch: 0051 loss_train: 1.6394 acc_train: 0.7200 loss_val: 1.7385 acc_val: 0.7080 time: 0.5438s 436\n",
            "Epoch: 0052 loss_train: 1.6403 acc_train: 0.7140 loss_val: 1.7256 acc_val: 0.7080 time: 0.5612s 432\n",
            "Epoch: 0053 loss_train: 1.6286 acc_train: 0.7200 loss_val: 1.7139 acc_val: 0.7060 time: 0.5718s 467\n",
            "Epoch: 0054 loss_train: 1.6214 acc_train: 0.7160 loss_val: 1.7046 acc_val: 0.7040 time: 0.5856s 323\n",
            "Epoch: 0055 loss_train: 1.6124 acc_train: 0.7160 loss_val: 1.6966 acc_val: 0.7020 time: 0.5983s 113\n",
            "Epoch: 0056 loss_train: 1.6078 acc_train: 0.7160 loss_val: 1.6908 acc_val: 0.7000 time: 0.6065s 360\n",
            "Epoch: 0057 loss_train: 1.6032 acc_train: 0.7200 loss_val: 1.6872 acc_val: 0.6980 time: 0.6143s 429\n",
            "Epoch: 0058 loss_train: 1.5963 acc_train: 0.7080 loss_val: 1.6860 acc_val: 0.6960 time: 0.6256s 103\n",
            "Epoch: 0059 loss_train: 1.5814 acc_train: 0.7080 loss_val: 1.6890 acc_val: 0.6940 time: 0.6402s 395\n",
            "Epoch: 0060 loss_train: 1.5834 acc_train: 0.7040 loss_val: 1.6913 acc_val: 0.6920 time: 0.6522s 465\n",
            "Epoch: 0061 loss_train: 1.5715 acc_train: 0.7040 loss_val: 1.6937 acc_val: 0.6900 time: 0.6636s 374\n",
            "Epoch: 0062 loss_train: 1.5725 acc_train: 0.7000 loss_val: 1.6921 acc_val: 0.6880 time: 0.6746s 162\n",
            "Epoch: 0063 loss_train: 1.5696 acc_train: 0.6980 loss_val: 1.6893 acc_val: 0.6860 time: 0.6843s 128\n",
            "Epoch: 0064 loss_train: 1.5408 acc_train: 0.7000 loss_val: 1.6877 acc_val: 0.6840 time: 0.6935s 460\n",
            "Epoch: 0065 loss_train: 1.5364 acc_train: 0.7060 loss_val: 1.6817 acc_val: 0.6820 time: 0.7025s 182\n",
            "Epoch: 0066 loss_train: 1.5252 acc_train: 0.7020 loss_val: 1.6735 acc_val: 0.6800 time: 0.7116s 446\n",
            "Epoch: 0067 loss_train: 1.5326 acc_train: 0.6960 loss_val: 1.6626 acc_val: 0.6780 time: 0.7210s 351\n",
            "Epoch: 0068 loss_train: 1.5119 acc_train: 0.7000 loss_val: 1.6483 acc_val: 0.6760 time: 0.7304s 293\n",
            "Epoch: 0069 loss_train: 1.5184 acc_train: 0.7020 loss_val: 1.6361 acc_val: 0.6740 time: 0.7397s 213\n",
            "Epoch: 0070 loss_train: 1.5024 acc_train: 0.6940 loss_val: 1.6269 acc_val: 0.6720 time: 0.7599s 491\n",
            "Epoch: 0071 loss_train: 1.4937 acc_train: 0.7020 loss_val: 1.6203 acc_val: 0.6720 time: 0.7737s 348\n",
            "Epoch: 0072 loss_train: 1.4895 acc_train: 0.7040 loss_val: 1.6166 acc_val: 0.6700 time: 0.7821s 373\n",
            "Epoch: 0073 loss_train: 1.4933 acc_train: 0.6960 loss_val: 1.6169 acc_val: 0.6660 time: 0.7902s 180\n",
            "Epoch: 0074 loss_train: 1.4776 acc_train: 0.6980 loss_val: 1.6151 acc_val: 0.6640 time: 0.7984s 196\n",
            "Epoch: 0075 loss_train: 1.4766 acc_train: 0.6960 loss_val: 1.6142 acc_val: 0.6620 time: 0.8116s 235\n",
            "Epoch: 0076 loss_train: 1.4731 acc_train: 0.6840 loss_val: 1.6096 acc_val: 0.6600 time: 0.8220s 497\n",
            "Epoch: 0077 loss_train: 1.4899 acc_train: 0.6840 loss_val: 1.6002 acc_val: 0.6580 time: 0.8327s 475\n",
            "Epoch: 0078 loss_train: 1.4675 acc_train: 0.6880 loss_val: 1.5950 acc_val: 0.6580 time: 0.8474s 438\n",
            "Epoch: 0079 loss_train: 1.4531 acc_train: 0.6880 loss_val: 1.5923 acc_val: 0.6580 time: 0.8615s 303\n",
            "Epoch: 0080 loss_train: 1.4556 acc_train: 0.6840 loss_val: 1.5931 acc_val: 0.6600 time: 0.8722s 160\n",
            "Test set results: loss= 1.5917 accuracy= 0.7640 462\n",
            "GCN(\n",
            "  (gc1): GraphConvolution()\n",
            "  (gc2): GraphConvolution()\n",
            ")\n"
          ],
          "name": "stdout"
        },
        {
          "output_type": "display_data",
          "data": {
            "image/png": "[encoded data removed]",
            "text/plain": [
              "<Figure size 432x288 with 1 Axes>"
            ]
          },
          "metadata": {
            "tags": [],
            "needs_background": "light"
          }
        },
        {
          "output_type": "display_data",
          "data": {
            "image/png": "[encoded data removed]",
            "text/plain": [
              "<Figure size 432x288 with 1 Axes>"
            ]
          },
          "metadata": {
            "tags": [],
            "needs_background": "light"
          }
        },
        {
          "output_type": "stream",
          "text": [
            "Optimization Finished!\n",
            "Total time elapsed: 1.3346s\n"
          ],
          "name": "stdout"
        }
      ]
    },
    {
      "cell_type": "code",
      "metadata": {
        "colab": {
          "base_uri": "https://localhost:8080/"
        },
        "id": "xhEk4gRHSOny",
        "outputId": "937c5475-7a6f-4d13-956f-325246cf3061"
      },
      "source": [
        "labels_test_hidden"
      ],
      "execution_count": 63,
      "outputs": [
        {
          "output_type": "execute_result",
          "data": {
            "text/plain": [
              "tensor([ 1,  2,  3,  4,  5,  6,  7,  8,  9, 10,  1,  2,  3,  4,  5,  6,  7,  8,\n",
              "         9, 10,  1,  2,  3,  4,  5,  6,  7,  8,  9, 10,  1,  2,  3,  4,  5,  6,\n",
              "         7,  8,  9, 10,  1,  2,  3,  4,  5,  6,  7,  8,  9, 10,  1,  2,  3,  4,\n",
              "         5,  6,  7,  8,  9, 10,  1,  2,  3,  4,  5,  6,  7,  8,  9, 10,  1,  2,\n",
              "         3,  4,  5,  6,  7,  8,  9, 10,  1,  2,  3,  4,  5,  6,  7,  8,  9, 10,\n",
              "         1,  2,  3,  4,  5,  6,  7,  8,  9, 10,  3,  9,  9, 10,  2,  8,  2,  5,\n",
              "         4,  9,  3,  2,  5,  9,  8,  3,  5,  6,  2,  5,  1,  5,  9,  5,  5,  3,\n",
              "         3,  9,  5,  5, 10,  5,  9,  9,  8,  5,  9,  2,  5,  5,  3,  9,  9,  5,\n",
              "         2,  6,  2,  9,  5,  5,  7, 10,  3,  3,  7,  4,  1,  2,  3,  5,  5,  5,\n",
              "         5,  9,  9,  2,  5,  2,  5,  9,  2,  5,  5,  3,  3,  7,  1,  5,  2,  6,\n",
              "         5,  3,  4,  5,  9,  9,  9,  2,  7,  9,  5,  5,  5,  9,  1,  5,  5,  9,\n",
              "         9,  5,  2,  8,  5,  9,  3,  8,  1,  9,  5,  9,  5,  5,  4,  5,  8,  9,\n",
              "         5,  2,  3,  7,  5,  9,  5,  7,  3,  5,  2,  5,  3,  8,  9,  1,  1,  5,\n",
              "         2,  3,  9,  3,  2,  2,  5,  2,  3,  4,  5,  4,  9,  4,  4,  3,  1,  3,\n",
              "         5,  7,  9,  5,  5,  5,  4,  3,  5,  8,  3,  2,  7,  5,  5,  9,  9,  3,\n",
              "         5,  8,  5,  9,  5,  5,  5,  9,  5,  5,  5,  6,  6,  3,  9,  5, 10,  1,\n",
              "         6,  5,  8,  8,  2,  5,  2,  9,  3,  2,  5,  5,  9,  9,  2,  5,  5,  9,\n",
              "         9,  5,  2,  9,  3,  2,  2,  1,  5,  5,  3,  2,  7, 10,  5,  5,  5,  3,\n",
              "         4,  2,  7,  2,  5,  7,  5,  3,  2,  6,  2,  5,  3,  5,  5,  2,  5,  5,\n",
              "         5,  7,  5,  5,  5,  8,  9,  5,  5,  5,  6,  2,  3,  7,  5,  3,  9,  5,\n",
              "         5,  9,  2,  9,  5,  5,  3,  5,  8,  2,  3,  8,  7,  7,  7,  5,  9,  5,\n",
              "         2,  2,  2,  8,  7,  2,  3,  3,  1,  2,  5,  8,  8,  5,  2,  5,  2,  2,\n",
              "         3,  9,  5,  9,  1,  2,  5,  9,  4,  9,  9,  2,  5,  2,  5,  9,  8,  5,\n",
              "         3,  3,  8,  3,  5,  9,  9,  9,  5,  9,  5,  5,  5,  5,  9,  2,  5,  4,\n",
              "         5,  7,  8,  9,  5,  6,  2,  5,  9,  9,  5,  5,  2,  2,  5,  2,  5,  9,\n",
              "         5,  3,  9,  5,  8,  9,  3,  9,  2,  5,  5,  1,  3,  4,  9,  5,  5,  6,\n",
              "         6,  5,  1,  3,  9,  5,  2,  5,  5,  5,  5,  9,  9,  5,  2,  5,  8,  9,\n",
              "         5,  7,  5,  9,  3,  3,  2,  9,  5,  2,  7,  3,  5,  9])"
            ]
          },
          "metadata": {
            "tags": []
          },
          "execution_count": 63
        }
      ]
    },
    {
      "cell_type": "code",
      "metadata": {
        "colab": {
          "base_uri": "https://localhost:8080/"
        },
        "id": "FBmQ-VOGXADS",
        "outputId": "af9a97f0-08af-40e9-9574-11bbe0b6a490"
      },
      "source": [
        "labels_test"
      ],
      "execution_count": 64,
      "outputs": [
        {
          "output_type": "execute_result",
          "data": {
            "text/plain": [
              "tensor([ 1,  2,  3,  4,  5,  6,  7,  8,  9, 10,  1,  2,  3,  4,  5,  6,  7,  8,\n",
              "         9, 10,  1,  2,  3,  4,  5,  6,  7,  8,  9, 10,  1,  2,  3,  4,  5,  6,\n",
              "         7,  8,  9, 10,  1,  2,  3,  4,  5,  6,  7,  8,  9, 10,  1,  2,  3,  4,\n",
              "         5,  6,  7,  8,  9, 10,  1,  2,  3,  4,  5,  6,  7,  8,  9, 10,  1,  2,\n",
              "         3,  4,  5,  6,  7,  8,  9, 10,  1,  2,  3,  4,  5,  6,  7,  8,  9, 10,\n",
              "         1,  2,  3,  4,  5,  6,  7,  8,  9, 10,  0,  0,  0,  0,  0,  0,  0,  0,\n",
              "         0,  0,  0,  0,  0,  0,  0,  0,  0,  0,  0,  0,  0,  0,  0,  0,  0,  0,\n",
              "         0,  0,  0,  0,  0,  0,  0,  0,  0,  0,  0,  0,  0,  0,  0,  0,  0,  0,\n",
              "         0,  0,  0,  0,  0,  0,  0,  0,  0,  0,  0,  0,  0,  0,  0,  0,  0,  0,\n",
              "         0,  0,  0,  0,  0,  0,  0,  0,  0,  0,  0,  0,  0,  0,  0,  0,  0,  0,\n",
              "         0,  0,  0,  0,  0,  0,  0,  0,  0,  0,  0,  0,  0,  0,  0,  0,  0,  0,\n",
              "         0,  0,  0,  0,  0,  0,  0,  0,  0,  0,  0,  0,  0,  0,  0,  0,  0,  0,\n",
              "         0,  0,  0,  0,  0,  0,  0,  0,  0,  0,  0,  0,  0,  0,  0,  0,  0,  0,\n",
              "         0,  0,  0,  0,  0,  0,  0,  0,  0,  0,  0,  0,  0,  0,  0,  0,  0,  0,\n",
              "         0,  0,  0,  0,  0,  0,  0,  0,  0,  0,  0,  0,  0,  0,  0,  0,  0,  0,\n",
              "         0,  0,  0,  0,  0,  0,  0,  0,  0,  0,  0,  0,  0,  0,  0,  0,  0,  0,\n",
              "         0,  0,  0,  0,  0,  0,  0,  0,  0,  0,  0,  0,  0,  0,  0,  0,  0,  0,\n",
              "         0,  0,  0,  0,  0,  0,  0,  0,  0,  0,  0,  0,  0,  0,  0,  0,  0,  0,\n",
              "         0,  0,  0,  0,  0,  0,  0,  0,  0,  0,  0,  0,  0,  0,  0,  0,  0,  0,\n",
              "         0,  0,  0,  0,  0,  0,  0,  0,  0,  0,  0,  0,  0,  0,  0,  0,  0,  0,\n",
              "         0,  0,  0,  0,  0,  0,  0,  0,  0,  0,  0,  0,  0,  0,  0,  0,  0,  0,\n",
              "         0,  0,  0,  0,  0,  0,  0,  0,  0,  0,  0,  0,  0,  0,  0,  0,  0,  0,\n",
              "         0,  0,  0,  0,  0,  0,  0,  0,  0,  0,  0,  0,  0,  0,  0,  0,  0,  0,\n",
              "         0,  0,  0,  0,  0,  0,  0,  0,  0,  0,  0,  0,  0,  0,  0,  0,  0,  0,\n",
              "         0,  0,  0,  0,  0,  0,  0,  0,  0,  0,  0,  0,  0,  0,  0,  0,  0,  0,\n",
              "         0,  0,  0,  0,  0,  0,  0,  0,  0,  0,  0,  0,  3,  0,  0,  0,  0,  0,\n",
              "         0,  0,  0,  0,  0,  0,  0,  0,  0,  0,  0,  0,  0,  0,  0,  0,  0,  0,\n",
              "         0,  0,  0,  0,  0,  0,  0,  0,  0,  0,  0,  0,  0,  0])"
            ]
          },
          "metadata": {
            "tags": []
          },
          "execution_count": 64
        }
      ]
    },
    {
      "cell_type": "code",
      "metadata": {
        "colab": {
          "base_uri": "https://localhost:8080/"
        },
        "id": "09oMI4PcWZEf",
        "outputId": "d41ae0a0-09a3-4f29-d2f5-1e9f5c1e9b0c"
      },
      "source": [
        "labels_train"
      ],
      "execution_count": 65,
      "outputs": [
        {
          "output_type": "execute_result",
          "data": {
            "text/plain": [
              "tensor([ 1,  2,  3,  4,  5,  6,  7,  8,  9, 10,  1,  2,  3,  4,  5,  6,  7,  8,\n",
              "         9, 10,  1,  2,  3,  4,  5,  6,  7,  8,  9, 10,  1,  2,  3,  4,  5,  6,\n",
              "         7,  8,  9, 10,  1,  2,  3,  4,  5,  6,  7,  8,  9, 10,  1,  2,  3,  4,\n",
              "         5,  6,  7,  8,  9, 10,  1,  2,  3,  4,  5,  6,  7,  8,  9, 10,  1,  2,\n",
              "         3,  4,  5,  6,  7,  8,  9, 10,  1,  2,  3,  4,  5,  6,  7,  8,  9, 10,\n",
              "         1,  2,  3,  4,  5,  6,  7,  8,  9, 10,  0,  0,  0,  7,  0,  0,  0,  2,\n",
              "         0,  0,  5,  0,  0,  8,  0,  0,  0,  0,  0,  0,  0,  0,  0,  0,  0,  0,\n",
              "         0,  0,  5,  0,  0,  0,  0,  0,  0,  0,  0,  0,  0,  0,  5,  0,  5,  2,\n",
              "         0,  0,  0,  0,  0,  8,  0,  0,  0,  0,  2,  0,  0,  0,  0,  0,  0,  0,\n",
              "         0,  0,  0,  0,  0,  0,  6,  0,  0,  0,  2,  0,  2,  2,  0,  0,  8,  0,\n",
              "         0,  0,  0,  0,  0,  0,  0,  0,  0,  0,  5,  0,  0,  7,  0,  0,  0,  0,\n",
              "         0,  9,  0,  5,  0,  0,  6,  9,  0,  0,  0,  0,  0,  0,  0,  0,  5,  2,\n",
              "         0,  0,  0,  0,  0,  0,  9,  9,  0,  0,  0,  0,  0,  0,  0,  0,  0,  0,\n",
              "         0,  2,  9,  0,  0,  0,  0,  0,  3,  0,  0,  9,  0,  0,  0,  0,  0,  9,\n",
              "         5,  0,  0,  0,  0,  0,  0,  0,  0,  0,  0,  0,  0,  0,  0,  0,  0,  0,\n",
              "         5,  0,  0,  0,  9,  0,  0,  2,  0,  0,  0,  0,  0,  0,  0,  0,  0,  0,\n",
              "         5,  0,  0,  0,  0,  8,  7,  0,  0,  0,  0,  0,  0,  0,  0,  0,  0,  0,\n",
              "         0,  0,  0,  9,  9,  0,  0,  0,  0,  8,  0,  5,  0,  0,  0,  0,  0,  0,\n",
              "         0,  0,  0,  0,  0,  0,  5,  5,  0,  0,  0,  2,  9,  0,  0,  0,  0,  0,\n",
              "         0,  0,  2,  0,  0,  9,  0,  0,  0,  0,  0,  0,  0,  0,  0,  0,  0,  0,\n",
              "         5,  6,  0,  0,  0,  0,  0,  2,  0,  0,  5,  1,  2,  9,  0,  2,  0,  0,\n",
              "         0,  0,  0,  2,  0,  5,  0,  0,  9,  0,  0,  0,  0,  0,  8,  0,  3,  9,\n",
              "         0,  0,  0,  0,  5,  0,  0,  0,  0,  0,  0,  0,  0,  0,  0,  0,  0,  0,\n",
              "         0,  0,  0,  0,  0,  0,  0,  0,  0,  0,  0,  0,  0,  0,  0,  0,  0,  0,\n",
              "         0,  5,  6,  0,  0,  0,  2,  0,  0,  0,  0,  0,  0,  5,  0,  0,  0,  0,\n",
              "         5,  0,  3,  0,  2,  0,  0,  0,  0,  0,  0,  8,  0,  0, 10,  0,  0,  0,\n",
              "         0,  0,  0,  9,  3,  7,  0,  0,  0,  0,  0,  0,  0,  0,  0,  3,  0,  0,\n",
              "        10,  0,  0,  2,  7,  0,  0,  0,  0,  0,  9,  0,  3,  0])"
            ]
          },
          "metadata": {
            "tags": []
          },
          "execution_count": 65
        }
      ]
    },
    {
      "cell_type": "code",
      "metadata": {
        "colab": {
          "base_uri": "https://localhost:8080/"
        },
        "id": "X6IMUMXEUMCS",
        "outputId": "5959a8f4-0b85-4d5f-893c-2e69531b679e"
      },
      "source": [
        "labels_val"
      ],
      "execution_count": 66,
      "outputs": [
        {
          "output_type": "execute_result",
          "data": {
            "text/plain": [
              "tensor([ 1,  2,  3,  4,  5,  6,  7,  8,  9, 10,  1,  2,  3,  4,  5,  6,  7,  8,\n",
              "         9, 10,  1,  2,  3,  4,  5,  6,  7,  8,  9, 10,  1,  2,  3,  4,  5,  6,\n",
              "         7,  8,  9, 10,  1,  2,  3,  4,  5,  6,  7,  8,  9, 10,  1,  2,  3,  4,\n",
              "         5,  6,  7,  8,  9, 10,  1,  2,  3,  4,  5,  6,  7,  8,  9, 10,  1,  2,\n",
              "         3,  4,  5,  6,  7,  8,  9, 10,  1,  2,  3,  4,  5,  6,  7,  8,  9, 10,\n",
              "         1,  2,  3,  4,  5,  6,  7,  8,  9, 10,  0,  0,  0,  6,  0,  0,  0,  0,\n",
              "         0,  2,  0,  0,  0,  9,  0,  0,  0,  0,  0,  0,  0,  0,  0,  0,  0,  8,\n",
              "         2,  0,  5,  0,  0,  0,  0,  0,  5,  0,  0,  0,  9,  0,  5,  0,  0,  0,\n",
              "         0,  5,  0,  0,  0,  0,  0,  0,  0,  0,  0,  0,  0,  0,  0,  0,  4,  0,\n",
              "         2,  0,  0,  9,  0,  0,  0, 10,  0,  0,  0,  0,  0,  0,  2,  0,  0,  0,\n",
              "         2,  0,  5,  0,  0,  2,  0,  2,  0,  0,  0,  0,  0, 10,  0,  0,  6,  0,\n",
              "         0,  0,  0,  0,  0,  0,  0,  0,  0,  0,  0,  0,  0,  0,  0,  5,  5,  0,\n",
              "         0,  0,  0,  0,  0,  0,  0,  0,  3,  0,  6,  0,  0,  0,  0,  0,  0,  0,\n",
              "         0,  5,  4,  0,  0,  0,  0,  0,  5,  0,  0,  0,  8,  5,  0,  0,  5,  0,\n",
              "         0,  2,  0,  0,  0,  0,  0,  0,  0,  0,  0,  0,  0,  0,  0,  0,  0,  5,\n",
              "         5,  5,  2,  0,  0,  5,  0,  0,  0,  0,  0,  0,  0,  0,  0,  0,  0,  0,\n",
              "         0,  0,  0,  0,  0,  8,  0,  0,  0,  0,  0,  0,  0,  0,  0,  4,  0,  0,\n",
              "         0,  0,  0,  0,  0,  0,  0,  0,  0,  0,  0,  0,  0,  9,  0,  0,  5,  2,\n",
              "         0,  0,  2,  0,  0,  0,  0,  0,  5,  0,  0,  0,  0,  0,  0,  0,  0,  0,\n",
              "         0,  0,  0,  0,  0,  0,  2,  0,  0,  9,  0,  0,  0,  0,  0,  0,  0,  0,\n",
              "         2,  0,  0,  0,  0,  5,  0,  0,  0,  0,  0,  0,  0,  9,  9,  0,  0,  0,\n",
              "         0,  0,  0,  5,  8,  5,  0,  0,  0,  0,  5,  0,  0,  0,  0,  0,  0, 10,\n",
              "         5,  0,  5,  0,  9,  0,  2,  0,  0,  0,  0,  0,  0,  0,  0,  0,  0,  0,\n",
              "         0,  0,  0,  0,  0,  0,  2,  0,  0,  2,  0,  0,  0,  2,  8,  3,  8,  0,\n",
              "        10,  0,  2,  0,  8,  0, 10,  0,  0,  0,  0,  0,  5,  0,  5,  0,  0,  0,\n",
              "         2,  0,  5,  0,  0,  0,  0,  0,  0,  0,  1,  0,  5,  0,  0,  9,  0,  9,\n",
              "         0,  0,  0,  0,  0,  0,  0,  9,  0,  0,  0,  0,  0,  0,  0,  0,  0,  0,\n",
              "         0,  0,  0,  0,  0,  3,  0,  0,  0,  0,  0,  5,  0,  0])"
            ]
          },
          "metadata": {
            "tags": []
          },
          "execution_count": 66
        }
      ]
    },
    {
      "cell_type": "code",
      "metadata": {
        "id": "u3cViaWh8fj4"
      },
      "source": [
        "def accuracy(output, labels):\n",
        "    preds = output.max(1)[1].type_as(labels)\n",
        "    correct = preds.eq(labels).double()\n",
        "    correct = correct.sum()\n",
        "    return correct / len(labels)    "
      ],
      "execution_count": 67,
      "outputs": []
    },
    {
      "cell_type": "code",
      "metadata": {
        "colab": {
          "base_uri": "https://localhost:8080/"
        },
        "id": "U7iSDvZd8hPx",
        "outputId": "82483249-1df2-4c58-f659-b25bc0ef1e14"
      },
      "source": [
        " len(labels_val)  "
      ],
      "execution_count": 68,
      "outputs": [
        {
          "output_type": "execute_result",
          "data": {
            "text/plain": [
              "500"
            ]
          },
          "metadata": {
            "tags": []
          },
          "execution_count": 68
        }
      ]
    },
    {
      "cell_type": "code",
      "metadata": {
        "id": "-H1yzQBQ85oI"
      },
      "source": [
        " # output.max(1)[1].type_as(labels_val)\n"
      ],
      "execution_count": 69,
      "outputs": []
    },
    {
      "cell_type": "code",
      "metadata": {
        "colab": {
          "base_uri": "https://localhost:8080/"
        },
        "id": "GnjKc3N1_lgL",
        "outputId": "c39c0006-eb4b-472f-fc0a-93ec50a4742d"
      },
      "source": [
        "a = torch.randn(4, 4)\n",
        "a"
      ],
      "execution_count": 70,
      "outputs": [
        {
          "output_type": "execute_result",
          "data": {
            "text/plain": [
              "tensor([[ 0.6422,  1.3860, -0.2443,  3.4810],\n",
              "        [-0.0515,  0.9817, -0.0352, -1.2956],\n",
              "        [-0.2435,  0.7614,  0.1215, -0.0693],\n",
              "        [-1.3057, -0.3020,  0.3580, -0.1613]])"
            ]
          },
          "metadata": {
            "tags": []
          },
          "execution_count": 70
        }
      ]
    },
    {
      "cell_type": "code",
      "metadata": {
        "colab": {
          "base_uri": "https://localhost:8080/"
        },
        "id": "m8gD2rMu_qWx",
        "outputId": "9a2f7106-569d-46ef-b5f9-0bf99b19371f"
      },
      "source": [
        "\n",
        "a.max( 1)[0]\n"
      ],
      "execution_count": 71,
      "outputs": [
        {
          "output_type": "execute_result",
          "data": {
            "text/plain": [
              "tensor([3.4810, 0.9817, 0.7614, 0.3580])"
            ]
          },
          "metadata": {
            "tags": []
          },
          "execution_count": 71
        }
      ]
    }
  ]
}