{
  "nbformat": 4,
  "nbformat_minor": 0,
  "metadata": {
    "colab": {
      "name": "FewShot+ActiveL.ipynb",
      "provenance": [],
      "collapsed_sections": [],
      "mount_file_id": "https://github.com/vahidseydi/CGN/blob/main/GCN.ipynb",
      "authorship_tag": "ABX9TyNF8m/jeLOE5ovxN/kVNjX4",
      "include_colab_link": true
    },
    "kernelspec": {
      "name": "python3",
      "display_name": "Python 3"
    },
    "language_info": {
      "name": "python"
    }
  },
  "cells": [
    {
      "cell_type": "markdown",
      "metadata": {
        "id": "view-in-github",
        "colab_type": "text"
      },
      "source": [
        "<a href=\"https://colab.research.google.com/github/vahidseydi/CGN/blob/main/FewShot%2BActiveL.ipynb\" target=\"_parent\"><img src=\"https://colab.research.google.com/assets/colab-badge.svg\" alt=\"Open In Colab\"/></a>"
      ]
    },
    {
      "cell_type": "markdown",
      "metadata": {
        "id": "iQrGTMcwGbkt"
      },
      "source": [
        "#Downloading dataset file from Github"
      ]
    },
    {
      "cell_type": "code",
      "metadata": {
        "id": "hnHBK6RWuN9j",
        "colab": {
          "base_uri": "https://localhost:8080/"
        },
        "outputId": "edef67fe-9a50-47d4-e4fe-632a5c29d195"
      },
      "source": [
        "#ابتدا دیتاست موجود در فولدر دیتا در آدرس گیت هاب پروژه، را در این نوت بوک دخیره می کنیم\n",
        "! wget 'https://github.com/vahidseydi/CGN/blob/main/Data/amazon_electronics_computers%20(1).npz?raw=true'"
      ],
      "execution_count": 1,
      "outputs": [
        {
          "output_type": "stream",
          "text": [
            "--2021-05-19 15:12:49--  https://github.com/vahidseydi/CGN/blob/main/Data/amazon_electronics_computers%20(1).npz?raw=true\n",
            "Resolving github.com (github.com)... 140.82.114.3\n",
            "Connecting to github.com (github.com)|140.82.114.3|:443... connected.\n",
            "HTTP request sent, awaiting response... 302 Found\n",
            "Location: https://github.com/vahidseydi/CGN/raw/main/Data/amazon_electronics_computers%20(1).npz [following]\n",
            "--2021-05-19 15:12:49--  https://github.com/vahidseydi/CGN/raw/main/Data/amazon_electronics_computers%20(1).npz\n",
            "Reusing existing connection to github.com:443.\n",
            "HTTP request sent, awaiting response... 302 Found\n",
            "Location: https://raw.githubusercontent.com/vahidseydi/CGN/main/Data/amazon_electronics_computers%20(1).npz [following]\n",
            "--2021-05-19 15:12:49--  https://raw.githubusercontent.com/vahidseydi/CGN/main/Data/amazon_electronics_computers%20(1).npz\n",
            "Resolving raw.githubusercontent.com (raw.githubusercontent.com)... 185.199.108.133, 185.199.109.133, 185.199.110.133, ...\n",
            "Connecting to raw.githubusercontent.com (raw.githubusercontent.com)|185.199.108.133|:443... connected.\n",
            "HTTP request sent, awaiting response... 200 OK\n",
            "Length: 31921488 (30M) [application/octet-stream]\n",
            "Saving to: ‘amazon_electronics_computers (1).npz?raw=true.5’\n",
            "\n",
            "\r          amazon_el   0%[                    ]       0  --.-KB/s               \ramazon_electronics_ 100%[===================>]  30.44M   183MB/s    in 0.2s    \n",
            "\n",
            "2021-05-19 15:12:49 (183 MB/s) - ‘amazon_electronics_computers (1).npz?raw=true.5’ saved [31921488/31921488]\n",
            "\n"
          ],
          "name": "stdout"
        }
      ]
    },
    {
      "cell_type": "markdown",
      "metadata": {
        "id": "INK67X5IGkkc"
      },
      "source": [
        "# Load Data"
      ]
    },
    {
      "cell_type": "code",
      "metadata": {
        "id": "-MYbUcRVdtDe",
        "colab": {
          "base_uri": "https://localhost:8080/"
        },
        "outputId": "534483b6-6ccd-414b-fcd9-2935ccfb3feb"
      },
      "source": [
        "import numpy as np\n",
        "#فایل های موجود در دیتاست را می خوانیم\n",
        "npz_data=np.load('/content/amazon_electronics_computers (1).npz?raw=true')\n",
        "npz_data.files"
      ],
      "execution_count": 2,
      "outputs": [
        {
          "output_type": "execute_result",
          "data": {
            "text/plain": [
              "['adj_data',\n",
              " 'adj_indices',\n",
              " 'adj_indptr',\n",
              " 'adj_shape',\n",
              " 'attr_data',\n",
              " 'attr_indices',\n",
              " 'attr_indptr',\n",
              " 'attr_shape',\n",
              " 'labels',\n",
              " 'class_names']"
            ]
          },
          "metadata": {
            "tags": []
          },
          "execution_count": 2
        }
      ]
    },
    {
      "cell_type": "code",
      "metadata": {
        "id": "SmNiWW8bd-Xx",
        "colab": {
          "base_uri": "https://localhost:8080/"
        },
        "outputId": "54818fc2-b38f-4d86-f244-34e41e8d3a75"
      },
      "source": [
        "#کلاس های موجود در دیتاست شامل 10 کلاس می باشد\n",
        "class_names =npz_data['class_names']\n",
        "class_names"
      ],
      "execution_count": 3,
      "outputs": [
        {
          "output_type": "execute_result",
          "data": {
            "text/plain": [
              "array(['Desktops', 'Data Storage', 'Laptops', 'Monitors',\n",
              "       'Computer Components', 'Video Projectors', 'Routers', 'Tablets',\n",
              "       'Networking Products', 'Webcams'], dtype='<U19')"
            ]
          },
          "metadata": {
            "tags": []
          },
          "execution_count": 3
        }
      ]
    },
    {
      "cell_type": "code",
      "metadata": {
        "id": "vFpxP_MNMmCX"
      },
      "source": [
        "#تابع زیر برای جداسازی داده های آموزش، تست و اعتبارسنجی استفاده می شود\n",
        "#برابر با تمام داده ها می باشد y\n",
        "labels =npz_data['labels']\n",
        "y=labels.size\n",
        "#p for calculating percentage for idx_train,val,test\n",
        "p = lambda x: x*y/100"
      ],
      "execution_count": 4,
      "outputs": []
    },
    {
      "cell_type": "code",
      "metadata": {
        "id": "j9NewBDvWAdE"
      },
      "source": [
        "import numpy as np\n",
        "import scipy.sparse as sp\n",
        "import torch\n",
        "from scipy.sparse import  csr_matrix\n",
        "\n",
        "\n",
        "def load_data():\n",
        " \n",
        " features = sp.csr_matrix((npz_data['attr_data'], npz_data['attr_indices'], npz_data['attr_indptr']),shape=npz_data['attr_shape'])\n",
        "\n",
        " # build graph\n",
        " \n",
        " adj= sp.csr_matrix(sp.csr_matrix((npz_data['adj_data'], npz_data['adj_indices'], npz_data['adj_indptr']),shape=npz_data['adj_shape']))\n",
        " \n",
        " # build symmetric adjacency matrix\n",
        "\n",
        " adj = adj + adj.T.multiply(adj.T > adj) - adj.multiply(adj.T > adj)\n",
        " adj = normalize(adj + sp.eye(adj.shape[0]))\n",
        " #اول اعداد 0 و 1 هست بعد از نرمالایز تغییر میکند \n",
        "\n",
        " labels=npz_data['labels']\n",
        " #لیبل ها را یکی اضافه می کنیم تا لیبل 0 را به داده های بدون لیبل دهیم\n",
        " labels=labels+1\n",
        "\n",
        " #جداسازی داده ها \n",
        " idx_train =range(round(p(40)))\n",
        " idx_val = range(idx_train[-1],idx_train[-1]+round(p(30)))\n",
        " idx_test =range(idx_val[-1],idx_val[-1]+round(p(30)))\n",
        "\n",
        " idx_train = torch.LongTensor(idx_train)\n",
        " idx_val = torch.LongTensor(idx_val)\n",
        " idx_test = torch.LongTensor(idx_test)\n",
        "\n",
        " features = torch.FloatTensor(np.array(features.todense()))\n",
        " adj = torch.FloatTensor(np.array(adj.todense()))\n",
        " labels = torch.LongTensor(labels)\n",
        "\n",
        "\n",
        " return adj, features, labels, idx_train, idx_val, idx_test"
      ],
      "execution_count": 5,
      "outputs": []
    },
    {
      "cell_type": "code",
      "metadata": {
        "id": "A9YheZ8yNTSL"
      },
      "source": [
        "def normalize(mx):\n",
        "    \"\"\"Row-normalize sparse matrix\"\"\"\n",
        "    rowsum = np.array(mx.sum(1))\n",
        "    #sum in every row \n",
        "    r_inv = np.power(rowsum, -1).flatten()\n",
        "    # every sum to the power of -1 \n",
        "    r_inv[np.isinf(r_inv)] = 0.\n",
        "    r_mat_inv = sp.diags(r_inv)\n",
        "    #diagonal matrice \n",
        "    mx = r_mat_inv.dot(mx)\n",
        "    return mx"
      ],
      "execution_count": 6,
      "outputs": []
    },
    {
      "cell_type": "code",
      "metadata": {
        "id": "Iha5MQaYDJpG"
      },
      "source": [
        "def accuracy(output, labels):\n",
        "    preds = output.max(1)[1].type_as(labels)\n",
        "    correct = preds.eq(labels).double()\n",
        "    correct = correct.sum()\n",
        "    return correct / len(labels)    "
      ],
      "execution_count": 7,
      "outputs": []
    },
    {
      "cell_type": "code",
      "metadata": {
        "id": "NQLBOry4WJvV"
      },
      "source": [
        "adj, features, labels, idx_train, idx_val, idx_test = load_data()\n"
      ],
      "execution_count": 8,
      "outputs": []
    },
    {
      "cell_type": "markdown",
      "metadata": {
        "id": "HsHyFUvEUMFQ"
      },
      "source": [
        "\n",
        "\n",
        "#Constructing Train data"
      ]
    },
    {
      "cell_type": "code",
      "metadata": {
        "id": "t0-99ajritPS"
      },
      "source": [
        "#20% of train data for labeled\n",
        "#80% of train data for unlabeled\n",
        "#جداسازی داده های با لیبل و بدون لیبل برای آموزش \n",
        "\n",
        "p_train = lambda x: x*len(idx_train)/100\n",
        "\n",
        "idx_labeled_train =range(round(p_train(20)))\n",
        "idx_unlabeled_train = range(idx_labeled_train[-1],idx_labeled_train[-1]+round(p_train(80)))\n"
      ],
      "execution_count": 9,
      "outputs": []
    },
    {
      "cell_type": "code",
      "metadata": {
        "colab": {
          "base_uri": "https://localhost:8080/"
        },
        "id": "SUovgcgTOAmt",
        "outputId": "debae05c-f54f-4f6a-8962-7fb54737b346"
      },
      "source": [
        "print(idx_labeled_train,idx_unlabeled_train)"
      ],
      "execution_count": 10,
      "outputs": [
        {
          "output_type": "stream",
          "text": [
            "range(0, 1100) range(1099, 5500)\n"
          ],
          "name": "stdout"
        }
      ]
    },
    {
      "cell_type": "code",
      "metadata": {
        "id": "6003R_bp4Xkz"
      },
      "source": [
        "#اندیس مربوط به هر کلاسی را جدا می کنیم\n",
        "class_1=[i for i,x in enumerate(labels[idx_labeled_train]) if x==1] \n",
        "class_2=[i for i,x in enumerate(labels[idx_labeled_train]) if x==2] \n",
        "class_3=[i for i,x in enumerate(labels[idx_labeled_train]) if x==3]\n",
        "class_4=[i for i,x in enumerate(labels[idx_labeled_train]) if x==4] \n",
        "class_5=[i for i,x in enumerate(labels[idx_labeled_train]) if x==5] \n",
        "class_6=[i for i,x in enumerate(labels[idx_labeled_train]) if x==6] \n",
        "class_7=[i for i,x in enumerate(labels[idx_labeled_train]) if x==7] \n",
        "class_8=[i for i,x in enumerate(labels[idx_labeled_train]) if x==8] \n",
        "class_9=[i for i,x in enumerate(labels[idx_labeled_train]) if x==9] \n",
        "class_10=[i for i,x in enumerate(labels[idx_labeled_train]) if x==10] "
      ],
      "execution_count": 11,
      "outputs": []
    },
    {
      "cell_type": "code",
      "metadata": {
        "id": "-DEj19oZ9yVr"
      },
      "source": [
        "#می خواهیم از هر کلاسی به صورت رندوم سمپل انتخاب کنیم\n",
        "import random\n",
        "Random_idx_train=[]\n",
        "#با تعداد شات تعیین می کنیم که از هر کلاس چند سمپل نیاز داریم\n",
        "N_shot=10\n",
        "for i in range(N_shot):\n",
        "  Random_idx_train.append(random.choice(class_1))\n",
        "  Random_idx_train.append(random.choice(class_2))\n",
        "  Random_idx_train.append(random.choice(class_3))\n",
        "  Random_idx_train.append(random.choice(class_4))\n",
        "  Random_idx_train.append(random.choice(class_5))\n",
        "  Random_idx_train.append(random.choice(class_6))\n",
        "  Random_idx_train.append(random.choice(class_7))\n",
        "  Random_idx_train.append(random.choice(class_8))\n",
        "  Random_idx_train.append(random.choice(class_9))\n",
        "  Random_idx_train.append(random.choice(class_10))\n",
        "\n",
        "#Random_idx_train#اندیس "
      ],
      "execution_count": 12,
      "outputs": []
    },
    {
      "cell_type": "code",
      "metadata": {
        "id": "p1_KllTImV3U"
      },
      "source": [
        "#اگر بخواهیم از هر کلاس یک سمپل انتخاب کنیم مجموعا 10 سمپل با لیبل داریم \n",
        "#اگر بخواهیم نسبت 20 به 80 را رعایت کنیم پس لازم است 40 داده بدون لیبل هم انتخاب کنیم\n",
        "\n",
        "hiddenIndex_train=[]\n",
        "\n",
        "for i in range(40*N_shot):\n",
        "  hiddenIndex_train.append(random.choice(idx_unlabeled_train))\n",
        "#hiddenIndex_train  "
      ],
      "execution_count": 13,
      "outputs": []
    },
    {
      "cell_type": "code",
      "metadata": {
        "id": "1C808icQZ2u_"
      },
      "source": [
        "#مجموع اندیس های آموزش شامل اندیس های زیر می باشد:\n",
        "#traindata_idx=Random_idx_train+hiddenIndex_train\n"
      ],
      "execution_count": 14,
      "outputs": []
    },
    {
      "cell_type": "code",
      "metadata": {
        "id": "sRhvyy9HgXT-",
        "colab": {
          "base_uri": "https://localhost:8080/"
        },
        "outputId": "321d5475-c4c0-4fdd-c59e-c5e87b793998"
      },
      "source": [
        "#labels_train_hidden:\n",
        "#تمام لیبل ها حتی هیدن ها،برای استفاده در اکتیولرنینگ\n",
        "labels_train_hidden=torch.hstack((labels[Random_idx_train],labels[hiddenIndex_train]))\n",
        "labels_train_hidden.shape"
      ],
      "execution_count": 15,
      "outputs": [
        {
          "output_type": "execute_result",
          "data": {
            "text/plain": [
              "torch.Size([500])"
            ]
          },
          "metadata": {
            "tags": []
          },
          "execution_count": 15
        }
      ]
    },
    {
      "cell_type": "code",
      "metadata": {
        "id": "8SkfjGpTMeVw"
      },
      "source": [
        "#labels_train_hidden"
      ],
      "execution_count": 16,
      "outputs": []
    },
    {
      "cell_type": "code",
      "metadata": {
        "colab": {
          "base_uri": "https://localhost:8080/"
        },
        "id": "8OE8yFZhkFvI",
        "outputId": "ed73a301-a4a0-477b-dbee-07b9426953ac"
      },
      "source": [
        "labels[Random_idx_train]"
      ],
      "execution_count": 17,
      "outputs": [
        {
          "output_type": "execute_result",
          "data": {
            "text/plain": [
              "tensor([ 1,  2,  3,  4,  5,  6,  7,  8,  9, 10,  1,  2,  3,  4,  5,  6,  7,  8,\n",
              "         9, 10,  1,  2,  3,  4,  5,  6,  7,  8,  9, 10,  1,  2,  3,  4,  5,  6,\n",
              "         7,  8,  9, 10,  1,  2,  3,  4,  5,  6,  7,  8,  9, 10,  1,  2,  3,  4,\n",
              "         5,  6,  7,  8,  9, 10,  1,  2,  3,  4,  5,  6,  7,  8,  9, 10,  1,  2,\n",
              "         3,  4,  5,  6,  7,  8,  9, 10,  1,  2,  3,  4,  5,  6,  7,  8,  9, 10,\n",
              "         1,  2,  3,  4,  5,  6,  7,  8,  9, 10])"
            ]
          },
          "metadata": {
            "tags": []
          },
          "execution_count": 17
        }
      ]
    },
    {
      "cell_type": "code",
      "metadata": {
        "id": "bOr1K7YJm7td"
      },
      "source": [
        "#labels[Random_idx_train]==labels_train_hidden[0:10*N_shot]\n",
        "#labels[hiddenIndex_train]==labels_train_hidden[10*N_shot:10*N_shot*4+10*N_shot]"
      ],
      "execution_count": 18,
      "outputs": []
    },
    {
      "cell_type": "code",
      "metadata": {
        "id": "xo58EqipMk_m"
      },
      "source": [
        "#labels_train=labels_train_hidden\n",
        "#با توجه به اینکه از هر کلاس چند تا سمپل انتخاب کردیم از شماره آخری بقیه مربوط به هیدن ها میشود که صفر میذاریم\n",
        "#labels_train[10*N_shot+1:]=0"
      ],
      "execution_count": 19,
      "outputs": []
    },
    {
      "cell_type": "code",
      "metadata": {
        "id": "btpV4dc2Mnyc"
      },
      "source": [
        "#labels_train"
      ],
      "execution_count": 20,
      "outputs": []
    },
    {
      "cell_type": "code",
      "metadata": {
        "id": "yt6_cLWoMsTH"
      },
      "source": [
        "#labels_train_hidden"
      ],
      "execution_count": 21,
      "outputs": []
    },
    {
      "cell_type": "code",
      "metadata": {
        "id": "O7Lwde1zkTe9"
      },
      "source": [
        "labels_train=labels_train_hidden.detach().clone()\n",
        "#با توجه به اینکه از هر کلاس چند تا سمپل انتخاب کردیم از شماره آخری بقیه مربوط به هیدن ها میشود که صفر میذاریم\n",
        "labels_train[10*N_shot:]=0"
      ],
      "execution_count": 22,
      "outputs": []
    },
    {
      "cell_type": "code",
      "metadata": {
        "id": "EU2yK_3RM6Cl"
      },
      "source": [
        "#labels_train_hidden"
      ],
      "execution_count": 23,
      "outputs": []
    },
    {
      "cell_type": "code",
      "metadata": {
        "id": "EteMi10CkrbR"
      },
      "source": [
        "#labels_train"
      ],
      "execution_count": 24,
      "outputs": []
    },
    {
      "cell_type": "code",
      "metadata": {
        "colab": {
          "base_uri": "https://localhost:8080/"
        },
        "id": "FiNVOiOZf9OM",
        "outputId": "a379e475-4c03-43b2-f6e3-8f61ba21a055"
      },
      "source": [
        "#ایجاد ماتریس ویژگی ها از داده های با لیبل و بدون لیبل\n",
        "features_train=torch.vstack((features[Random_idx_train],features[hiddenIndex_train]))\n",
        "features_train.shape"
      ],
      "execution_count": 25,
      "outputs": [
        {
          "output_type": "execute_result",
          "data": {
            "text/plain": [
              "torch.Size([500, 767])"
            ]
          },
          "metadata": {
            "tags": []
          },
          "execution_count": 25
        }
      ]
    },
    {
      "cell_type": "code",
      "metadata": {
        "colab": {
          "base_uri": "https://localhost:8080/"
        },
        "id": "R6bLiV3Ynb0l",
        "outputId": "db8f12b3-0f93-47c4-9d26-163e9f68eb6b"
      },
      "source": [
        "features_train[0:10*N_shot]==features[Random_idx_train]\n",
        "features_train[10*N_shot:10*N_shot*4+10*N_shot]==features[hiddenIndex_train]"
      ],
      "execution_count": 26,
      "outputs": [
        {
          "output_type": "execute_result",
          "data": {
            "text/plain": [
              "tensor([[True, True, True,  ..., True, True, True],\n",
              "        [True, True, True,  ..., True, True, True],\n",
              "        [True, True, True,  ..., True, True, True],\n",
              "        ...,\n",
              "        [True, True, True,  ..., True, True, True],\n",
              "        [True, True, True,  ..., True, True, True],\n",
              "        [True, True, True,  ..., True, True, True]])"
            ]
          },
          "metadata": {
            "tags": []
          },
          "execution_count": 26
        }
      ]
    },
    {
      "cell_type": "code",
      "metadata": {
        "id": "28I52FrOiii1"
      },
      "source": [
        "#adj[1:10*N_shot,1:10*N_shot].shape"
      ],
      "execution_count": 27,
      "outputs": []
    },
    {
      "cell_type": "code",
      "metadata": {
        "id": "i4x-xGrv0Sw0"
      },
      "source": [
        "#ایجاد ماتریس مجاورت از داده های با لیبل و بدون لیبل\n",
        "adj_train=torch.vstack((adj[Random_idx_train],adj[hiddenIndex_train]))\n",
        "\n",
        "for i in hiddenIndex_train :\n",
        "    Random_idx_train.append(i)\n",
        "    \n",
        "#ایجاد تقارن در ماتریس مجاورت\n",
        "adj_train=adj_train[0:10*N_shot*4+10*N_shot,Random_idx_train]"
      ],
      "execution_count": 28,
      "outputs": []
    },
    {
      "cell_type": "code",
      "metadata": {
        "id": "M7_IwfbRKIt_"
      },
      "source": [
        "#adj_train.shape"
      ],
      "execution_count": 29,
      "outputs": []
    },
    {
      "cell_type": "code",
      "metadata": {
        "id": "kerWgiRDBcDP"
      },
      "source": [
        "#Random_idx_train[2]"
      ],
      "execution_count": 30,
      "outputs": []
    },
    {
      "cell_type": "code",
      "metadata": {
        "id": "uCpOOU5-83cf"
      },
      "source": [
        "#adj[717].shape"
      ],
      "execution_count": 31,
      "outputs": []
    },
    {
      "cell_type": "code",
      "metadata": {
        "id": "S4yLSWzV83Z6"
      },
      "source": [
        "#adj_train[0].shape"
      ],
      "execution_count": 32,
      "outputs": []
    },
    {
      "cell_type": "code",
      "metadata": {
        "id": "08hYvuat7Z5w"
      },
      "source": [
        "#adj[782,782]\n",
        "#adj[30,30]"
      ],
      "execution_count": 33,
      "outputs": []
    },
    {
      "cell_type": "markdown",
      "metadata": {
        "id": "elrp9c9FTi2w"
      },
      "source": [
        "#Constructing Test data"
      ]
    },
    {
      "cell_type": "code",
      "metadata": {
        "id": "jorUo0cyTv7o"
      },
      "source": [
        "##داده های تست و اعتبارسنجی نیز دقیقا مشابه داده های آموزش ایجاد می شوند##\n",
        "\n",
        "#20% of test data for labeled\n",
        "#80% of test data for unlabeled\n",
        "\n",
        "p_test = lambda x: x*len(idx_test)/100\n",
        "\n",
        "idx_labeled_test =range(round(p_test(20)))\n",
        "idx_unlabeled_test = range(idx_labeled_test[-1],idx_labeled_test[-1]+round(p_test(80)))\n"
      ],
      "execution_count": 34,
      "outputs": []
    },
    {
      "cell_type": "code",
      "metadata": {
        "colab": {
          "base_uri": "https://localhost:8080/"
        },
        "id": "2ZR91mjVTv7q",
        "outputId": "cb923c9f-f34d-4e9e-cb2e-b8dcc78c4861"
      },
      "source": [
        "print(idx_labeled_test,idx_unlabeled_test)"
      ],
      "execution_count": 35,
      "outputs": [
        {
          "output_type": "stream",
          "text": [
            "range(0, 825) range(824, 4125)\n"
          ],
          "name": "stdout"
        }
      ]
    },
    {
      "cell_type": "code",
      "metadata": {
        "id": "eRdkBXRUTv7s"
      },
      "source": [
        "#اندیس مربوط به هر کلاسی را جدا می کنیم\n",
        "class_1=[i for i,x in enumerate(labels[idx_labeled_test]) if x==1] \n",
        "class_2=[i for i,x in enumerate(labels[idx_labeled_test]) if x==2] \n",
        "class_3=[i for i,x in enumerate(labels[idx_labeled_test]) if x==3]\n",
        "class_4=[i for i,x in enumerate(labels[idx_labeled_test]) if x==4] \n",
        "class_5=[i for i,x in enumerate(labels[idx_labeled_test]) if x==5] \n",
        "class_6=[i for i,x in enumerate(labels[idx_labeled_test]) if x==6] \n",
        "class_7=[i for i,x in enumerate(labels[idx_labeled_test]) if x==7] \n",
        "class_8=[i for i,x in enumerate(labels[idx_labeled_test]) if x==8] \n",
        "class_9=[i for i,x in enumerate(labels[idx_labeled_test]) if x==9] \n",
        "class_10=[i for i,x in enumerate(labels[idx_labeled_test]) if x==10] "
      ],
      "execution_count": 36,
      "outputs": []
    },
    {
      "cell_type": "code",
      "metadata": {
        "id": "3AE5Sw2ZTv7t"
      },
      "source": [
        "# از هر کلاسی بتوانیم به صورت رندوم سمپل انتخاب کنیم\n",
        "import random\n",
        "Random_idx_test=[]\n",
        "\n",
        "for i in range(N_shot):\n",
        "  Random_idx_test.append(random.choice(class_1))\n",
        "  Random_idx_test.append(random.choice(class_2))\n",
        "  Random_idx_test.append(random.choice(class_3))\n",
        "  Random_idx_test.append(random.choice(class_4))\n",
        "  Random_idx_test.append(random.choice(class_5))\n",
        "  Random_idx_test.append(random.choice(class_6))\n",
        "  Random_idx_test.append(random.choice(class_7))\n",
        "  Random_idx_test.append(random.choice(class_8))\n",
        "  Random_idx_test.append(random.choice(class_9))\n",
        "  Random_idx_test.append(random.choice(class_10))\n",
        "\n",
        "#Random_idx_test#اندیس "
      ],
      "execution_count": 37,
      "outputs": []
    },
    {
      "cell_type": "code",
      "metadata": {
        "id": "Rv7SWldYTv7u"
      },
      "source": [
        "#اگر بخواهیم از هر کلاس یک سمپل انتخاب کنیم مجموعا 10 سمپل با لیبل داریم \n",
        "#اگر بخواهیم نسبت 20 به 80 را ارعایت کنیم پس لازم است 40 داده بدون لیبل هم انتخاب کنیم\n",
        "\n",
        "hiddenIndex_test=[]\n",
        "\n",
        "for i in range(40*N_shot):\n",
        "  hiddenIndex_test.append(random.choice(idx_unlabeled_test))\n",
        "#hiddenIndex_test "
      ],
      "execution_count": 38,
      "outputs": []
    },
    {
      "cell_type": "code",
      "metadata": {
        "colab": {
          "base_uri": "https://localhost:8080/"
        },
        "id": "kDcysoakTv7v",
        "outputId": "4f691bdb-9028-4314-a18d-1f909011d57d"
      },
      "source": [
        "labels_test_hidden=torch.hstack((labels[Random_idx_test],labels[hiddenIndex_test]))\n",
        "labels_test_hidden.shape"
      ],
      "execution_count": 39,
      "outputs": [
        {
          "output_type": "execute_result",
          "data": {
            "text/plain": [
              "torch.Size([500])"
            ]
          },
          "metadata": {
            "tags": []
          },
          "execution_count": 39
        }
      ]
    },
    {
      "cell_type": "code",
      "metadata": {
        "id": "XRnuyYHiTv7w"
      },
      "source": [
        "labels_test=labels_test_hidden.detach().clone()\n",
        "#با توجه به اینکه از هر کلاس چند تا سمپل انتخاب کردیم از شماره آخری بقیه مربوط به هیدن ها میشود که صفر میذاریم\n",
        "labels_test[10*N_shot:]=0"
      ],
      "execution_count": 40,
      "outputs": []
    },
    {
      "cell_type": "code",
      "metadata": {
        "id": "e7ICA7fEEztv"
      },
      "source": [
        "#labels_test"
      ],
      "execution_count": 41,
      "outputs": []
    },
    {
      "cell_type": "code",
      "metadata": {
        "id": "SWejgHLyE3qT"
      },
      "source": [
        "#labels_test_hidden"
      ],
      "execution_count": 42,
      "outputs": []
    },
    {
      "cell_type": "code",
      "metadata": {
        "colab": {
          "base_uri": "https://localhost:8080/"
        },
        "id": "xtqi7LwXTv7x",
        "outputId": "7023b46f-fece-4460-d638-035d0a5d8496"
      },
      "source": [
        "features_test=torch.vstack((features[Random_idx_test],features[hiddenIndex_test]))\n",
        "features_test.shape"
      ],
      "execution_count": 43,
      "outputs": [
        {
          "output_type": "execute_result",
          "data": {
            "text/plain": [
              "torch.Size([500, 767])"
            ]
          },
          "metadata": {
            "tags": []
          },
          "execution_count": 43
        }
      ]
    },
    {
      "cell_type": "code",
      "metadata": {
        "colab": {
          "base_uri": "https://localhost:8080/"
        },
        "id": "xnW1mVA5Tv7y",
        "outputId": "a341f725-d1fe-4792-e3d2-2ace5ca4165f"
      },
      "source": [
        "features_test[0:10*N_shot]==features[Random_idx_test]\n",
        "features_test[10*N_shot:10*N_shot*4+10*N_shot]==features[hiddenIndex_test]"
      ],
      "execution_count": 44,
      "outputs": [
        {
          "output_type": "execute_result",
          "data": {
            "text/plain": [
              "tensor([[True, True, True,  ..., True, True, True],\n",
              "        [True, True, True,  ..., True, True, True],\n",
              "        [True, True, True,  ..., True, True, True],\n",
              "        ...,\n",
              "        [True, True, True,  ..., True, True, True],\n",
              "        [True, True, True,  ..., True, True, True],\n",
              "        [True, True, True,  ..., True, True, True]])"
            ]
          },
          "metadata": {
            "tags": []
          },
          "execution_count": 44
        }
      ]
    },
    {
      "cell_type": "code",
      "metadata": {
        "id": "U3CLd-KVTv7z"
      },
      "source": [
        "adj_test=torch.vstack((adj[Random_idx_test],adj[hiddenIndex_test]))\n",
        "\n",
        "for i in hiddenIndex_test :\n",
        "    Random_idx_test.append(i)\n",
        "\n",
        "adj_test=adj_test[0:10*N_shot*4+10*N_shot,Random_idx_test]"
      ],
      "execution_count": 45,
      "outputs": []
    },
    {
      "cell_type": "markdown",
      "metadata": {
        "id": "Dyz6oDB6Yyuf"
      },
      "source": [
        "#Constructing Validation Data"
      ]
    },
    {
      "cell_type": "code",
      "metadata": {
        "id": "dRkhidE6YWTu"
      },
      "source": [
        "#20% of val data for labeled\n",
        "#80% of val data for unlabeled\n",
        "\n",
        "p_val = lambda x: x*len(idx_val)/100\n",
        "\n",
        "idx_labeled_val =range(round(p_val(20)))\n",
        "idx_unlabeled_val = range(idx_labeled_val[-1],idx_labeled_val[-1]+round(p_val(80)))\n"
      ],
      "execution_count": 46,
      "outputs": []
    },
    {
      "cell_type": "code",
      "metadata": {
        "colab": {
          "base_uri": "https://localhost:8080/"
        },
        "id": "jqHcKhKYYWTw",
        "outputId": "a0435881-ed3b-4e3c-f39b-9a500fe17b79"
      },
      "source": [
        "print(idx_labeled_val,idx_unlabeled_val)"
      ],
      "execution_count": 47,
      "outputs": [
        {
          "output_type": "stream",
          "text": [
            "range(0, 825) range(824, 4125)\n"
          ],
          "name": "stdout"
        }
      ]
    },
    {
      "cell_type": "code",
      "metadata": {
        "id": "hR67HnajYWUE"
      },
      "source": [
        "#اندیس مربوط به هر کلاسی را جدا می کنیم\n",
        "class_1=[i for i,x in enumerate(labels[idx_labeled_val]) if x==1] \n",
        "class_2=[i for i,x in enumerate(labels[idx_labeled_val]) if x==2] \n",
        "class_3=[i for i,x in enumerate(labels[idx_labeled_val]) if x==3]\n",
        "class_4=[i for i,x in enumerate(labels[idx_labeled_val]) if x==4] \n",
        "class_5=[i for i,x in enumerate(labels[idx_labeled_val]) if x==5] \n",
        "class_6=[i for i,x in enumerate(labels[idx_labeled_val]) if x==6] \n",
        "class_7=[i for i,x in enumerate(labels[idx_labeled_val]) if x==7] \n",
        "class_8=[i for i,x in enumerate(labels[idx_labeled_val]) if x==8] \n",
        "class_9=[i for i,x in enumerate(labels[idx_labeled_val]) if x==9] \n",
        "class_10=[i for i,x in enumerate(labels[idx_labeled_val]) if x==10] "
      ],
      "execution_count": 48,
      "outputs": []
    },
    {
      "cell_type": "code",
      "metadata": {
        "id": "M9H3cAsQYWUF"
      },
      "source": [
        "# از هر کلاسی بتوانیم به صورت رندوم سمپل انتخاب کنیم\n",
        "import random\n",
        "Random_idx_val=[]\n",
        "\n",
        "for i in range(N_shot):\n",
        "  Random_idx_val.append(random.choice(class_1))\n",
        "  Random_idx_val.append(random.choice(class_2))\n",
        "  Random_idx_val.append(random.choice(class_3))\n",
        "  Random_idx_val.append(random.choice(class_4))\n",
        "  Random_idx_val.append(random.choice(class_5))\n",
        "  Random_idx_val.append(random.choice(class_6))\n",
        "  Random_idx_val.append(random.choice(class_7))\n",
        "  Random_idx_val.append(random.choice(class_8))\n",
        "  Random_idx_val.append(random.choice(class_9))\n",
        "  Random_idx_val.append(random.choice(class_10))\n",
        "\n",
        "#Random_idx_val#اندیس "
      ],
      "execution_count": 49,
      "outputs": []
    },
    {
      "cell_type": "code",
      "metadata": {
        "id": "0eRUuhJqYWUH"
      },
      "source": [
        "#اگر بخواهیم از هر کلاس یک سمپل انتخاب کنیم مجموعا 10 سمپل با لیبل داریم \n",
        "#اگر بخواهیم نسبت 20 به 80 را ارعایت کنیم پس لازم است 40 داده بدون لیبل هم انتخاب کنیم\n",
        "\n",
        "hiddenIndex_val=[]\n",
        "\n",
        "for i in range(40*N_shot):\n",
        "  hiddenIndex_val.append(random.choice(idx_unlabeled_val))\n",
        "#hiddenIndex_val "
      ],
      "execution_count": 50,
      "outputs": []
    },
    {
      "cell_type": "code",
      "metadata": {
        "colab": {
          "base_uri": "https://localhost:8080/"
        },
        "id": "GGJZ-_e4YWUI",
        "outputId": "a014a6a3-2876-4a50-9497-bf8a86b3f328"
      },
      "source": [
        "labels_val_hidden=torch.hstack((labels[Random_idx_val],labels[hiddenIndex_val]))\n",
        "labels_val_hidden.shape"
      ],
      "execution_count": 51,
      "outputs": [
        {
          "output_type": "execute_result",
          "data": {
            "text/plain": [
              "torch.Size([500])"
            ]
          },
          "metadata": {
            "tags": []
          },
          "execution_count": 51
        }
      ]
    },
    {
      "cell_type": "code",
      "metadata": {
        "id": "KEhEarXCYWUI"
      },
      "source": [
        "labels_val=labels_val_hidden.detach().clone()\n",
        "#با توجه به اینکه از هر کلاس چند تا سمپل انتخاب کردیم از شماره آخری بقیه مربوط به هیدن ها میشود که صفر میذاریم\n",
        "labels_val[10*N_shot:]=0"
      ],
      "execution_count": 52,
      "outputs": []
    },
    {
      "cell_type": "code",
      "metadata": {
        "colab": {
          "base_uri": "https://localhost:8080/"
        },
        "id": "3F00cnT2YWUJ",
        "outputId": "6beeffa9-4083-4f2d-e607-e25c62a1dd90"
      },
      "source": [
        "features_val=torch.vstack((features[Random_idx_val],features[hiddenIndex_val]))\n",
        "features_val.shape"
      ],
      "execution_count": 53,
      "outputs": [
        {
          "output_type": "execute_result",
          "data": {
            "text/plain": [
              "torch.Size([500, 767])"
            ]
          },
          "metadata": {
            "tags": []
          },
          "execution_count": 53
        }
      ]
    },
    {
      "cell_type": "code",
      "metadata": {
        "colab": {
          "base_uri": "https://localhost:8080/"
        },
        "id": "_oHe-7abYWUK",
        "outputId": "2bc838bb-4c6f-4ffe-9972-a6a7ccc9b152"
      },
      "source": [
        "features_val[0:10*N_shot]==features[Random_idx_val]\n",
        "features_val[10*N_shot:10*N_shot*4+10*N_shot]==features[hiddenIndex_val]"
      ],
      "execution_count": 54,
      "outputs": [
        {
          "output_type": "execute_result",
          "data": {
            "text/plain": [
              "tensor([[True, True, True,  ..., True, True, True],\n",
              "        [True, True, True,  ..., True, True, True],\n",
              "        [True, True, True,  ..., True, True, True],\n",
              "        ...,\n",
              "        [True, True, True,  ..., True, True, True],\n",
              "        [True, True, True,  ..., True, True, True],\n",
              "        [True, True, True,  ..., True, True, True]])"
            ]
          },
          "metadata": {
            "tags": []
          },
          "execution_count": 54
        }
      ]
    },
    {
      "cell_type": "code",
      "metadata": {
        "id": "tJhiH9xIYWUL"
      },
      "source": [
        "adj_val=torch.vstack((adj[Random_idx_val],adj[hiddenIndex_val]))\n",
        "\n",
        "for i in hiddenIndex_val :\n",
        "    Random_idx_val.append(i)\n",
        "\n",
        "adj_val=adj_val[0:10*N_shot*4+10*N_shot,Random_idx_val]"
      ],
      "execution_count": 55,
      "outputs": []
    },
    {
      "cell_type": "markdown",
      "metadata": {
        "id": "3rXMvNIZF6BU"
      },
      "source": [
        "# Constructing hidden_labels"
      ]
    },
    {
      "cell_type": "code",
      "metadata": {
        "id": "GL4nZ9-pMmSM"
      },
      "source": [
        "#hidden_labels:\n",
        "#برای استفاده در قسمت اکتیولرنینگ که فقط بر روی هیدن لیبل ها اعمال شود\n",
        "#سایز آن به اندازه تعداد کل سمپل ها می باشد\n",
        "hidden_labels_train=np.zeros((10*N_shot*4+10*N_shot), dtype='int')\n",
        "hidden_labels_train[10*N_shot:10*N_shot*4+10*N_shot]=1\n",
        "#RuntimeError: Can't call numpy() on Tensor that requires grad. Use tensor.detach().numpy() instead. site:stackoverflow.com\n",
        "#برای همین به تنسور تبدیلش کردم\n",
        "hidden_labels_train=torch.tensor(hidden_labels_train)\n",
        "#hidden_labels_train"
      ],
      "execution_count": 56,
      "outputs": []
    },
    {
      "cell_type": "code",
      "metadata": {
        "id": "sSwwuzUJFR1n"
      },
      "source": [
        "hidden_labels_test=np.zeros((10*N_shot*4+10*N_shot), dtype='int')\n",
        "hidden_labels_test[10*N_shot:10*N_shot*4+10*N_shot]=1\n",
        "hidden_labels_test=torch.tensor(hidden_labels_test)\n",
        "#hidden_labels_test"
      ],
      "execution_count": 57,
      "outputs": []
    },
    {
      "cell_type": "code",
      "metadata": {
        "id": "46SwJE2eFRj4"
      },
      "source": [
        "hidden_labels_val=np.zeros((10*N_shot*4+10*N_shot), dtype='int')\n",
        "hidden_labels_val[10*N_shot:10*N_shot*4+10*N_shot]=1\n",
        "hidden_labels_val=torch.tensor(hidden_labels_val)\n",
        "#hidden_labels_val"
      ],
      "execution_count": 58,
      "outputs": []
    },
    {
      "cell_type": "code",
      "metadata": {
        "colab": {
          "base_uri": "https://localhost:8080/"
        },
        "id": "W7zL2lQQRV9V",
        "outputId": "66eb9781-58a2-4b56-cf31-5b4751c40ba4"
      },
      "source": [
        "hidden_labels_val.shape"
      ],
      "execution_count": 59,
      "outputs": [
        {
          "output_type": "execute_result",
          "data": {
            "text/plain": [
              "torch.Size([500])"
            ]
          },
          "metadata": {
            "tags": []
          },
          "execution_count": 59
        }
      ]
    },
    {
      "cell_type": "markdown",
      "metadata": {
        "id": "ScJWIK7yGDcY"
      },
      "source": [
        "#Layers"
      ]
    },
    {
      "cell_type": "code",
      "metadata": {
        "id": "us3XSHLHDWoP"
      },
      "source": [
        "\n",
        "import math\n",
        "\n",
        "import torch\n",
        "\n",
        "from torch.nn.parameter import Parameter\n",
        "\n",
        "#class parameter:\n",
        "#پارامترها را کش می کند\n",
        "\n",
        "from torch.nn.modules.module import Module\n",
        "\n",
        "\n",
        "class GraphConvolution(Module):\n",
        "    \"\"\"\n",
        "    Simple GCN layer, similar to https://arxiv.org/abs/1609.02907\n",
        "    \"\"\"\n",
        "\n",
        "    def __init__(self, in_features ,out_features, bias=True):\n",
        "        super(GraphConvolution, self).__init__()\n",
        "        self.in_features = in_features\n",
        "        self.out_features = out_features\n",
        "        \n",
        "        self.weight = Parameter(torch.FloatTensor(in_features, out_features))\n",
        "        if bias:\n",
        "            self.bias = Parameter(torch.FloatTensor(out_features))\n",
        "        else:\n",
        "            self.register_parameter('bias', None)\n",
        "        self.reset_parameters()\n",
        "\n",
        "    def reset_parameters(self):\n",
        "        stdv = 1. / math.sqrt(self.weight.size(1))\n",
        "        self.weight.data.uniform_(-stdv, stdv)\n",
        "        if self.bias is not None:\n",
        "            self.bias.data.uniform_(-stdv, stdv)\n",
        "\n",
        "    def forward(self, input, input_adj):\n",
        "        support = torch.mm(input, self.weight)\n",
        "        #torch.mm=matrix multiplication\n",
        "        #torch.spmm=Sparse matrix multiplication\n",
        "        #ضرب ویژگی ها در ماتریس مجاورت\n",
        "        output = torch.spmm(input_adj, support)\n",
        "        if self.bias is not None:\n",
        "            return output + self.bias\n",
        "        else:\n",
        "            return output\n"
      ],
      "execution_count": 60,
      "outputs": []
    },
    {
      "cell_type": "markdown",
      "metadata": {
        "id": "4vTcR4OmGJIR"
      },
      "source": [
        "#Model"
      ]
    },
    {
      "cell_type": "code",
      "metadata": {
        "id": "RXDaJHg7DeHl"
      },
      "source": [
        "\n",
        "import torch.nn as nn\n",
        "import torch.nn.functional as F\n",
        "\n",
        "class GCN(nn.Module):\n",
        "    def __init__(self, nfeat, nhid,nclass, dropout):\n",
        "        super(GCN, self).__init__()\n",
        "\n",
        "        self.gc1 = GraphConvolution(nfeat, nhid)\n",
        "        self.gc2 = GraphConvolution(nhid, nclass)\n",
        "        self.dropout = dropout\n",
        "        #self.mode=mode\n",
        "        \n",
        "    def forward(self, x, input_adj,hidden_labels):\n",
        "        #if N-shot=10 then samples=500\n",
        "        #features_num=767\n",
        "        #x.shape=500*767\n",
        "        #samples=500,features=767\n",
        "        x = F.relu(self.gc1(x, input_adj))\n",
        "        #x.shape=500*16\n",
        "        #hidden_unit=16\n",
        "        x = F.dropout(x, self.dropout,training=self.training)\n",
        "        #training=self.training parameter of drop out func\n",
        "        #x.shape=500*16\n",
        "        #hidden_unit=16\n",
        "        #طبق مقاله مربوط به اکتیولرنینگ بعد از لایه اول اکتیو لرنینگ را اجرا می کنیم تا تصمیم گیری شود که لیبل کدام یک از داده های هیدن را اضافه کنیم\n",
        "        x,decision=self.active(x,hidden_labels)\n",
        "        x = self.gc2(x, input_adj)\n",
        "        #x.shape=500*11\n",
        "        #class_num=11\n",
        "        return F.log_softmax(x, dim=1),decision\n",
        "\n",
        "    def active(self, x,hidden):\n",
        "        #x.shape=500*16\n",
        "        x_active = torch.transpose(x, 0, 1) \n",
        "        x_active=x_active.unsqueeze_(0)\n",
        "        #unsqueeze_داده 2 بعدی را به 3 بعدی تبدیل می کند و بعد اول را 1 می کند\n",
        "        #این کار را برای آنکه لایه کانولوشن درست کار کند انجام دادم\n",
        "        #x_active.shape=1*16*500\n",
        "        #x_active.shape[1]=16\n",
        "\n",
        "        conv_active_1 = nn.Conv1d(x_active.shape[1],x_active.shape[1],1)\n",
        "        bn_active = nn.BatchNorm1d(x_active.shape[1])\n",
        "        conv_active_2 = nn.Conv1d(x_active.shape[1],1,1)\n",
        "\n",
        "        x_active = conv_active_1(x_active)\n",
        "        #x_active.shape=1*16*500\n",
        "        x_active = F.leaky_relu(bn_active(x_active))\n",
        "        #x_active.shape=1*16*500\n",
        "        x_active = conv_active_2(x_active)\n",
        "        #x_active.shape=1*1*500 \n",
        "        x_active = torch.transpose(x_active, 0, 1) \n",
        "        x_active = x_active.squeeze(0) \n",
        "        #x_active.shape=1*500 \n",
        "        #squeeze_ داده 3 بعدی را به 2 بعدی تبدیل می کند و مجدداورودی به حالت اول بر می گردد\n",
        "\n",
        "        #x_active = x_active - (1-hidden)*1e8\n",
        "        x_active = F.softmax(x_active)\n",
        "        #x_active.shape=1*500 \n",
        "        \n",
        "        #برای آنکه فقط روی هیدن لیبل ها تصمیم گیری شود، با ضرب زیر مقدار مربوط به سمپل های با لیبل صفر می شود\n",
        "        x_active = x_active*hidden \n",
        "        decision = torch.argmax(x_active)\n",
        "        \n",
        "        return x,int(decision)"
      ],
      "execution_count": 61,
      "outputs": []
    },
    {
      "cell_type": "markdown",
      "metadata": {
        "id": "xYdsEgftGRS8"
      },
      "source": [
        "#Train"
      ]
    },
    {
      "cell_type": "code",
      "metadata": {
        "colab": {
          "base_uri": "https://localhost:8080/",
          "height": 1000
        },
        "id": "kAvN1C2QDq89",
        "outputId": "a43bbef3-8967-4cd3-fef6-ce2a39b17c52"
      },
      "source": [
        "\n",
        "from __future__ import division\n",
        "from __future__ import print_function\n",
        "import time\n",
        "import argparse\n",
        "import matplotlib.pyplot as plt\n",
        "import torch.nn.functional as F\n",
        "import torch.optim as optim\n",
        "\n",
        "\n",
        "# Training settings\n",
        "\n",
        "parser = argparse.ArgumentParser()\n",
        "parser.add_argument('--no-cuda', action='store_true', default=False,\n",
        "                    help='Disables CUDA training.')\n",
        "parser.add_argument('--fastmode', action='store_true', default=False,\n",
        "                    help='Validate during training pass.')\n",
        "parser.add_argument('--seed', type=int, default=42, help='Random seed.')\n",
        "parser.add_argument('--epochs', type=int, default=100,\n",
        "                    help='Number of epochs to train.')\n",
        "parser.add_argument('--lr', type=float, default=0.01,\n",
        "                    help='Initial learning rate.')\n",
        "parser.add_argument('--weight_decay', type=float, default=5e-4,\n",
        "                    help='Weight decay (L2 loss on parameters).')\n",
        "parser.add_argument('--hidden', type=int, default=16,\n",
        "                    help='Number of hidden units.')\n",
        "parser.add_argument('--dropout', type=float, default=0.5,\n",
        "                    help='Dropout rate (1 - keep probability).')\n",
        "\n",
        "#args = parser.parse_args()\n",
        "#error midad khate bala,khate paein jaigozin shod\n",
        "\n",
        "args = parser.parse_known_args()[0]\n",
        "\n",
        "args.cuda = not args.no_cuda and torch.cuda.is_available()\n",
        "\n",
        "np.random.seed(args.seed)\n",
        "torch.manual_seed(args.seed)\n",
        "if args.cuda:\n",
        "    torch.cuda.manual_seed(args.seed)\n",
        "\n",
        "\n",
        "# Model and optimizer\n",
        "model = GCN(nfeat=features.shape[1],\n",
        "            nhid=args.hidden,\n",
        "            nclass=class_names.size+1,\n",
        "            #بدلیل صفر کردن لیبل هیدن ها تعداد کلاسها یکی بیشتر میشود\n",
        "            dropout=args.dropout)\n",
        "\n",
        "optimizer = optim.Adam(model.parameters(),\n",
        "                       lr=args.lr, weight_decay=args.weight_decay)\n",
        "\n",
        "# to set cuda as your device if possible\n",
        "#training on  GPU\n",
        "\n",
        "if args.cuda:\n",
        "    model.cuda()\n",
        "    features = features.cuda()\n",
        "    #adj_test = adj_test.cuda()\n",
        "    #labels_test = labels_test.cuda()\n",
        "    #features_train = features_train.cuda()\n",
        "    #adj_train = adj_train.cuda()\n",
        "    #labels_train = labels_train.cuda()\n",
        "    #features_val = features_val.cuda()\n",
        "    #adj_val = adj_val.cuda()\n",
        "    #labels_val = labels_val.cuda()\n",
        "    # train:adjust the weights on the neural network\n",
        "    # validation:used to minimize overfitting\n",
        " \n",
        "def test(): \n",
        "    model.eval()\n",
        "    output,act_dec = model(features_test,adj_test,hidden_labels_test)\n",
        "    \n",
        "    #مقدار تصمیم گیری شده در اکتیولرنینگ یک اندیس از هیدن لیبل هاست که بیشترین تاثیر در بهبود خطاهای شبکه را دارد\n",
        "    #(در واقع مقدارش را صفر میکنیم)لیبل آن را بدست آورده و به لیبل ها اضافه می کنیمو از هیدن ها هم آن را حذف میکنیم\n",
        "    Uncover_label=labels_test_hidden[act_dec]\n",
        "    labels_test[act_dec]=Uncover_label\n",
        "    hidden_labels_test[act_dec]=0\n",
        "\n",
        "    loss_test = F.nll_loss(output, labels_test)\n",
        "    acc_test = accuracy(output, labels_test)\n",
        "    print(\"Test set results:\",\n",
        "          \"loss= {:.4f}\".format(loss_test.item()),\n",
        "          \"accuracy= {:.4f}\".format(acc_test.item()),\n",
        "          act_dec)\n",
        "\n",
        "def train(epoch):\n",
        "  model.train()\n",
        "  optimizer.zero_grad()\n",
        "  output,act_dec = model(features_train,adj_train,hidden_labels_train)\n",
        "\n",
        "  Uncover_label=labels_train_hidden[act_dec]\n",
        "  labels_train[act_dec]=Uncover_label\n",
        "  hidden_labels_train[act_dec]=0\n",
        "\n",
        "  loss_train = F.nll_loss(output, labels_train)\n",
        "  acc_train = accuracy(output,labels_train)\n",
        "  # Computing the gradients necessary to adjust the weights\n",
        "  loss_train.backward()\n",
        "  # Updating the weights of the neural network\n",
        "  optimizer.step()\n",
        "  losses.append(loss_train.item())\n",
        "  acc.append(acc_train.item())\n",
        "\n",
        "  if not args.fastmode:\n",
        "    # Evaluate validation set performance separately,\n",
        "    # deactivates dropout during validation run.\n",
        "    model.eval()\n",
        "    output,act_dec = model(features_val, adj_val,hidden_labels_val)\n",
        "    \n",
        "    Uncover_label=labels_val_hidden[act_dec]\n",
        "    labels_val[act_dec]=Uncover_label\n",
        "    hidden_labels_val[act_dec]=0\n",
        "  \n",
        "    loss_val = F.nll_loss(output, labels_val)\n",
        "    acc_val = accuracy(output, labels_val)\n",
        "    losses_val.append(loss_val.item())\n",
        "    acc_valid.append(acc_val.item())\n",
        "\n",
        "    print('Epoch: {:04d}'.format(epoch+1),\n",
        "          'loss_train: {:.4f}'.format(loss_train.item()),\n",
        "          'acc_train: {:.4f}'.format(acc_train.item()),\n",
        "          'loss_val: {:.4f}'.format(loss_val.item()),\n",
        "          'acc_val: {:.4f}'.format(acc_val.item()),\n",
        "          'time: {:.4f}s'.format(time.time() - t),\n",
        "          act_dec)\n",
        "\n",
        "# Train model\n",
        "t_total = time.time()\n",
        "losses = []\n",
        "acc=[]\n",
        "losses_val = []\n",
        "acc_valid=[]\n",
        "t = time.time()\n",
        "for epoch in range(args.epochs):\n",
        "    train(epoch)\n",
        "\n",
        "# Testing\n",
        "test()\n",
        "\n",
        "print(model)\n",
        "\n",
        "#plotting loss_train_val:\n",
        "\n",
        "plt.plot(np.array(losses),label ='loss_train Plot')\n",
        "plt.plot(np.array(losses_val),label ='loss_val Plot')\n",
        "plt.title('loss_train_validation Plot')\n",
        "plt.xlabel('epoch')\n",
        "plt.ylabel('value')\n",
        "plt.legend()\n",
        "plt.show()\n",
        "\n",
        "#plotting acc_train_val:\n",
        "\n",
        "plt.plot(np.array(acc),label ='Accuracy_train Plot')\n",
        "plt.plot(np.array(acc_valid),label ='Accuracy_val Plot')\n",
        "plt.title('acc_train_validation Plot')\n",
        "plt.xlabel('epoch')\n",
        "plt.ylabel('value')\n",
        "plt.legend()\n",
        "plt.show()    \n",
        "\n",
        "print(\"Optimization Finished!\")\n",
        "print(\"Total time elapsed: {:.4f}s\".format(time.time() - t_total))\n",
        "\n"
      ],
      "execution_count": 62,
      "outputs": [
        {
          "output_type": "stream",
          "text": [
            "/usr/local/lib/python3.7/dist-packages/ipykernel_launcher.py:58: UserWarning: Implicit dimension choice for softmax has been deprecated. Change the call to include dim=X as an argument.\n"
          ],
          "name": "stderr"
        },
        {
          "output_type": "stream",
          "text": [
            "Epoch: 0001 loss_train: 2.3236 acc_train: 0.0340 loss_val: 2.2991 acc_val: 0.1320 time: 0.0094s 403\n",
            "Epoch: 0002 loss_train: 2.2933 acc_train: 0.1360 loss_val: 2.2676 acc_val: 0.4200 time: 0.0191s 302\n",
            "Epoch: 0003 loss_train: 2.2373 acc_train: 0.4080 loss_val: 2.2390 acc_val: 0.7860 time: 0.0275s 457\n",
            "Epoch: 0004 loss_train: 2.2034 acc_train: 0.7540 loss_val: 2.2146 acc_val: 0.7920 time: 0.0356s 188\n",
            "Epoch: 0005 loss_train: 2.1564 acc_train: 0.7860 loss_val: 2.2022 acc_val: 0.7900 time: 0.0434s 371\n",
            "Epoch: 0006 loss_train: 2.1293 acc_train: 0.7900 loss_val: 2.1903 acc_val: 0.7880 time: 0.0515s 287\n",
            "Epoch: 0007 loss_train: 2.1112 acc_train: 0.7860 loss_val: 2.2005 acc_val: 0.7860 time: 0.0594s 408\n",
            "Epoch: 0008 loss_train: 2.0537 acc_train: 0.7900 loss_val: 2.2025 acc_val: 0.7840 time: 0.0674s 299\n",
            "Epoch: 0009 loss_train: 2.0478 acc_train: 0.7800 loss_val: 2.2126 acc_val: 0.7820 time: 0.0753s 382\n",
            "Epoch: 0010 loss_train: 2.0656 acc_train: 0.7800 loss_val: 2.2192 acc_val: 0.7800 time: 0.0836s 227\n",
            "Epoch: 0011 loss_train: 2.0621 acc_train: 0.7780 loss_val: 2.2230 acc_val: 0.7780 time: 0.0923s 300\n",
            "Epoch: 0012 loss_train: 2.0311 acc_train: 0.7800 loss_val: 2.2278 acc_val: 0.7760 time: 0.0999s 173\n",
            "Epoch: 0013 loss_train: 1.9800 acc_train: 0.7780 loss_val: 2.2361 acc_val: 0.7740 time: 0.1075s 491\n",
            "Epoch: 0014 loss_train: 1.9984 acc_train: 0.7760 loss_val: 2.2431 acc_val: 0.7720 time: 0.1173s 391\n",
            "Epoch: 0015 loss_train: 2.0252 acc_train: 0.7740 loss_val: 2.2372 acc_val: 0.7700 time: 0.1250s 412\n",
            "Epoch: 0016 loss_train: 2.0062 acc_train: 0.7720 loss_val: 2.2324 acc_val: 0.7680 time: 0.1326s 264\n",
            "Epoch: 0017 loss_train: 2.0835 acc_train: 0.7680 loss_val: 2.2384 acc_val: 0.7660 time: 0.1400s 159\n",
            "Epoch: 0018 loss_train: 1.9527 acc_train: 0.7660 loss_val: 2.2235 acc_val: 0.7640 time: 0.1476s 278\n",
            "Epoch: 0019 loss_train: 1.9292 acc_train: 0.7780 loss_val: 2.2149 acc_val: 0.7620 time: 0.1551s 184\n",
            "Epoch: 0020 loss_train: 1.9300 acc_train: 0.7680 loss_val: 2.1985 acc_val: 0.7600 time: 0.1625s 142\n",
            "Epoch: 0021 loss_train: 1.9910 acc_train: 0.7700 loss_val: 2.1755 acc_val: 0.7580 time: 0.1702s 487\n",
            "Epoch: 0022 loss_train: 1.9711 acc_train: 0.7660 loss_val: 2.1502 acc_val: 0.7560 time: 0.1778s 422\n",
            "Epoch: 0023 loss_train: 2.0066 acc_train: 0.7600 loss_val: 2.1178 acc_val: 0.7540 time: 0.1858s 200\n",
            "Epoch: 0024 loss_train: 1.9471 acc_train: 0.7600 loss_val: 2.0884 acc_val: 0.7520 time: 0.1939s 327\n",
            "Epoch: 0025 loss_train: 1.8877 acc_train: 0.7580 loss_val: 2.0641 acc_val: 0.7500 time: 0.2017s 112\n",
            "Epoch: 0026 loss_train: 1.9092 acc_train: 0.7520 loss_val: 2.0366 acc_val: 0.7480 time: 0.2145s 411\n",
            "Epoch: 0027 loss_train: 1.8527 acc_train: 0.7600 loss_val: 2.0141 acc_val: 0.7460 time: 0.2242s 319\n",
            "Epoch: 0028 loss_train: 1.8497 acc_train: 0.7540 loss_val: 1.9944 acc_val: 0.7440 time: 0.2318s 436\n",
            "Epoch: 0029 loss_train: 1.8039 acc_train: 0.7620 loss_val: 1.9839 acc_val: 0.7420 time: 0.2390s 135\n",
            "Epoch: 0030 loss_train: 1.8308 acc_train: 0.7560 loss_val: 1.9745 acc_val: 0.7400 time: 0.2468s 239\n",
            "Epoch: 0031 loss_train: 1.7957 acc_train: 0.7540 loss_val: 1.9625 acc_val: 0.7380 time: 0.2543s 248\n",
            "Epoch: 0032 loss_train: 1.8153 acc_train: 0.7580 loss_val: 1.9523 acc_val: 0.7360 time: 0.2617s 180\n",
            "Epoch: 0033 loss_train: 1.7857 acc_train: 0.7540 loss_val: 1.9442 acc_val: 0.7340 time: 0.2715s 218\n",
            "Epoch: 0034 loss_train: 1.7654 acc_train: 0.7500 loss_val: 1.9390 acc_val: 0.7320 time: 0.2800s 298\n",
            "Epoch: 0035 loss_train: 1.7686 acc_train: 0.7440 loss_val: 1.9287 acc_val: 0.7300 time: 0.2914s 121\n",
            "Epoch: 0036 loss_train: 1.7471 acc_train: 0.7500 loss_val: 1.9147 acc_val: 0.7280 time: 0.3001s 305\n",
            "Epoch: 0037 loss_train: 1.7485 acc_train: 0.7480 loss_val: 1.9113 acc_val: 0.7260 time: 0.3081s 106\n",
            "Epoch: 0038 loss_train: 1.7697 acc_train: 0.7440 loss_val: 1.9046 acc_val: 0.7240 time: 0.3159s 125\n",
            "Epoch: 0039 loss_train: 1.7702 acc_train: 0.7380 loss_val: 1.8913 acc_val: 0.7220 time: 0.3237s 130\n",
            "Epoch: 0040 loss_train: 1.7367 acc_train: 0.7360 loss_val: 1.8791 acc_val: 0.7200 time: 0.3319s 378\n",
            "Epoch: 0041 loss_train: 1.7227 acc_train: 0.7440 loss_val: 1.8683 acc_val: 0.7180 time: 0.3392s 490\n",
            "Epoch: 0042 loss_train: 1.7392 acc_train: 0.7360 loss_val: 1.8578 acc_val: 0.7160 time: 0.3466s 455\n",
            "Epoch: 0043 loss_train: 1.7118 acc_train: 0.7300 loss_val: 1.8456 acc_val: 0.7140 time: 0.3542s 476\n",
            "Epoch: 0044 loss_train: 1.7001 acc_train: 0.7300 loss_val: 1.8318 acc_val: 0.7120 time: 0.3618s 279\n",
            "Epoch: 0045 loss_train: 1.6809 acc_train: 0.7340 loss_val: 1.8202 acc_val: 0.7100 time: 0.3723s 162\n",
            "Epoch: 0046 loss_train: 1.6445 acc_train: 0.7280 loss_val: 1.8154 acc_val: 0.7080 time: 0.3796s 291\n",
            "Epoch: 0047 loss_train: 1.6324 acc_train: 0.7360 loss_val: 1.8178 acc_val: 0.7080 time: 0.3869s 456\n",
            "Epoch: 0048 loss_train: 1.6222 acc_train: 0.7280 loss_val: 1.8234 acc_val: 0.7060 time: 0.3944s 362\n",
            "Epoch: 0049 loss_train: 1.6204 acc_train: 0.7240 loss_val: 1.8256 acc_val: 0.7040 time: 0.4020s 485\n",
            "Epoch: 0050 loss_train: 1.6197 acc_train: 0.7260 loss_val: 1.8247 acc_val: 0.7020 time: 0.4100s 265\n",
            "Epoch: 0051 loss_train: 1.6111 acc_train: 0.7180 loss_val: 1.8229 acc_val: 0.7000 time: 0.4193s 459\n",
            "Epoch: 0052 loss_train: 1.5764 acc_train: 0.7260 loss_val: 1.8180 acc_val: 0.6980 time: 0.4290s 123\n",
            "Epoch: 0053 loss_train: 1.5706 acc_train: 0.7260 loss_val: 1.8138 acc_val: 0.6960 time: 0.4364s 315\n",
            "Epoch: 0054 loss_train: 1.5348 acc_train: 0.7300 loss_val: 1.8167 acc_val: 0.6940 time: 0.4438s 161\n",
            "Epoch: 0055 loss_train: 1.5700 acc_train: 0.7280 loss_val: 1.8181 acc_val: 0.6920 time: 0.4512s 385\n",
            "Epoch: 0056 loss_train: 1.5497 acc_train: 0.7260 loss_val: 1.8190 acc_val: 0.6900 time: 0.4583s 140\n",
            "Epoch: 0057 loss_train: 1.5500 acc_train: 0.7160 loss_val: 1.8136 acc_val: 0.6880 time: 0.4657s 221\n",
            "Epoch: 0058 loss_train: 1.5276 acc_train: 0.7260 loss_val: 1.8109 acc_val: 0.6860 time: 0.4730s 165\n",
            "Epoch: 0059 loss_train: 1.5375 acc_train: 0.7140 loss_val: 1.8034 acc_val: 0.6840 time: 0.4815s 463\n",
            "Epoch: 0060 loss_train: 1.5400 acc_train: 0.7080 loss_val: 1.7892 acc_val: 0.6820 time: 0.4894s 369\n",
            "Epoch: 0061 loss_train: 1.5355 acc_train: 0.7060 loss_val: 1.7740 acc_val: 0.6800 time: 0.4973s 185\n",
            "Epoch: 0062 loss_train: 1.5037 acc_train: 0.7120 loss_val: 1.7914 acc_val: 0.6780 time: 0.5051s 389\n",
            "Epoch: 0063 loss_train: 1.4879 acc_train: 0.7140 loss_val: 1.7834 acc_val: 0.6760 time: 0.5126s 349\n",
            "Epoch: 0064 loss_train: 1.5144 acc_train: 0.7000 loss_val: 1.7749 acc_val: 0.6740 time: 0.5203s 226\n",
            "Epoch: 0065 loss_train: 1.5013 acc_train: 0.7020 loss_val: 1.7692 acc_val: 0.6740 time: 0.5280s 342\n",
            "Epoch: 0066 loss_train: 1.4771 acc_train: 0.7120 loss_val: 1.7677 acc_val: 0.6720 time: 0.5361s 381\n",
            "Epoch: 0067 loss_train: 1.4733 acc_train: 0.7040 loss_val: 1.7656 acc_val: 0.6700 time: 0.5443s 495\n",
            "Epoch: 0068 loss_train: 1.4746 acc_train: 0.7060 loss_val: 1.7647 acc_val: 0.6680 time: 0.5521s 429\n",
            "Epoch: 0069 loss_train: 1.4904 acc_train: 0.7000 loss_val: 1.7618 acc_val: 0.6700 time: 0.5602s 141\n",
            "Epoch: 0070 loss_train: 1.4590 acc_train: 0.6980 loss_val: 1.7600 acc_val: 0.6700 time: 0.5680s 297\n",
            "Epoch: 0071 loss_train: 1.4949 acc_train: 0.6860 loss_val: 1.7578 acc_val: 0.6660 time: 0.5755s 233\n",
            "Epoch: 0072 loss_train: 1.4540 acc_train: 0.7000 loss_val: 1.7522 acc_val: 0.6600 time: 0.5877s 334\n",
            "Epoch: 0073 loss_train: 1.4571 acc_train: 0.6920 loss_val: 1.7452 acc_val: 0.6580 time: 0.5953s 222\n",
            "Epoch: 0074 loss_train: 1.4653 acc_train: 0.6860 loss_val: 1.7373 acc_val: 0.6580 time: 0.6031s 249\n",
            "Epoch: 0075 loss_train: 1.4357 acc_train: 0.6980 loss_val: 1.7308 acc_val: 0.6560 time: 0.6112s 275\n",
            "Epoch: 0076 loss_train: 1.4445 acc_train: 0.6880 loss_val: 1.7270 acc_val: 0.6540 time: 0.6187s 397\n",
            "Epoch: 0077 loss_train: 1.4298 acc_train: 0.6940 loss_val: 1.7255 acc_val: 0.6520 time: 0.6286s 198\n",
            "Epoch: 0078 loss_train: 1.4559 acc_train: 0.6860 loss_val: 1.7239 acc_val: 0.6500 time: 0.6374s 394\n",
            "Epoch: 0079 loss_train: 1.4384 acc_train: 0.6820 loss_val: 1.7236 acc_val: 0.6500 time: 0.6446s 370\n",
            "Epoch: 0080 loss_train: 1.4266 acc_train: 0.6880 loss_val: 1.7267 acc_val: 0.6480 time: 0.6556s 155\n",
            "Epoch: 0081 loss_train: 1.4534 acc_train: 0.6780 loss_val: 1.7356 acc_val: 0.6460 time: 0.6638s 356\n",
            "Epoch: 0082 loss_train: 1.4246 acc_train: 0.6840 loss_val: 1.7404 acc_val: 0.6440 time: 0.6715s 418\n",
            "Epoch: 0083 loss_train: 1.4332 acc_train: 0.6900 loss_val: 1.7413 acc_val: 0.6420 time: 0.6790s 232\n",
            "Epoch: 0084 loss_train: 1.4234 acc_train: 0.6740 loss_val: 1.7414 acc_val: 0.6380 time: 0.6864s 461\n",
            "Epoch: 0085 loss_train: 1.4237 acc_train: 0.6800 loss_val: 1.7385 acc_val: 0.6380 time: 0.6939s 379\n",
            "Epoch: 0086 loss_train: 1.4265 acc_train: 0.6780 loss_val: 1.7350 acc_val: 0.6360 time: 0.7031s 197\n",
            "Epoch: 0087 loss_train: 1.4177 acc_train: 0.6660 loss_val: 1.7333 acc_val: 0.6360 time: 0.7116s 210\n",
            "Epoch: 0088 loss_train: 1.4273 acc_train: 0.6640 loss_val: 1.7289 acc_val: 0.6340 time: 0.7188s 250\n",
            "Epoch: 0089 loss_train: 1.4167 acc_train: 0.6720 loss_val: 1.7104 acc_val: 0.6300 time: 0.7333s 301\n",
            "Epoch: 0090 loss_train: 1.4076 acc_train: 0.6680 loss_val: 1.6983 acc_val: 0.6320 time: 0.7417s 316\n",
            "Epoch: 0091 loss_train: 1.4223 acc_train: 0.6640 loss_val: 1.6918 acc_val: 0.6280 time: 0.7498s 376\n",
            "Epoch: 0092 loss_train: 1.4089 acc_train: 0.6660 loss_val: 1.6886 acc_val: 0.6260 time: 0.7574s 353\n",
            "Epoch: 0093 loss_train: 1.4010 acc_train: 0.6660 loss_val: 1.6890 acc_val: 0.6240 time: 0.7649s 154\n",
            "Epoch: 0094 loss_train: 1.4094 acc_train: 0.6660 loss_val: 1.6889 acc_val: 0.6240 time: 0.7727s 255\n",
            "Epoch: 0095 loss_train: 1.4110 acc_train: 0.6620 loss_val: 1.6901 acc_val: 0.6220 time: 0.7856s 419\n",
            "Epoch: 0096 loss_train: 1.3982 acc_train: 0.6640 loss_val: 1.6942 acc_val: 0.6240 time: 0.7951s 454\n",
            "Epoch: 0097 loss_train: 1.3885 acc_train: 0.6680 loss_val: 1.6981 acc_val: 0.6240 time: 0.8031s 280\n",
            "Epoch: 0098 loss_train: 1.3783 acc_train: 0.6680 loss_val: 1.7035 acc_val: 0.6240 time: 0.8105s 167\n",
            "Epoch: 0099 loss_train: 1.4090 acc_train: 0.6540 loss_val: 1.7070 acc_val: 0.6180 time: 0.8182s 440\n",
            "Epoch: 0100 loss_train: 1.3815 acc_train: 0.6680 loss_val: 1.7098 acc_val: 0.6160 time: 0.8260s 466\n",
            "Test set results: loss= 1.7830 accuracy= 0.7660 451\n",
            "GCN(\n",
            "  (gc1): GraphConvolution()\n",
            "  (gc2): GraphConvolution()\n",
            ")\n"
          ],
          "name": "stdout"
        },
        {
          "output_type": "display_data",
          "data": {
            "image/png": "[encoded data removed]",
            "text/plain": [
              "<Figure size 432x288 with 1 Axes>"
            ]
          },
          "metadata": {
            "tags": [],
            "needs_background": "light"
          }
        },
        {
          "output_type": "display_data",
          "data": {
            "image/png": "[encoded data removed]",
            "text/plain": [
              "<Figure size 432x288 with 1 Axes>"
            ]
          },
          "metadata": {
            "tags": [],
            "needs_background": "light"
          }
        },
        {
          "output_type": "stream",
          "text": [
            "Optimization Finished!\n",
            "Total time elapsed: 1.2347s\n"
          ],
          "name": "stdout"
        }
      ]
    },
    {
      "cell_type": "code",
      "metadata": {
        "colab": {
          "base_uri": "https://localhost:8080/"
        },
        "id": "xhEk4gRHSOny",
        "outputId": "9e3d4b55-c283-4f05-f809-4a10f1013061"
      },
      "source": [
        "labels_test_hidden"
      ],
      "execution_count": 63,
      "outputs": [
        {
          "output_type": "execute_result",
          "data": {
            "text/plain": [
              "tensor([ 1,  2,  3,  4,  5,  6,  7,  8,  9, 10,  1,  2,  3,  4,  5,  6,  7,  8,\n",
              "         9, 10,  1,  2,  3,  4,  5,  6,  7,  8,  9, 10,  1,  2,  3,  4,  5,  6,\n",
              "         7,  8,  9, 10,  1,  2,  3,  4,  5,  6,  7,  8,  9, 10,  1,  2,  3,  4,\n",
              "         5,  6,  7,  8,  9, 10,  1,  2,  3,  4,  5,  6,  7,  8,  9, 10,  1,  2,\n",
              "         3,  4,  5,  6,  7,  8,  9, 10,  1,  2,  3,  4,  5,  6,  7,  8,  9, 10,\n",
              "         1,  2,  3,  4,  5,  6,  7,  8,  9, 10,  9,  2,  5,  8,  8,  3,  5,  5,\n",
              "        10,  3,  9,  1,  5,  5,  9,  9,  2,  5,  3,  6,  5,  8,  4,  2,  5, 10,\n",
              "         5,  4,  5,  5,  3,  5,  5,  5,  5,  5,  9,  5,  8,  5,  4,  5,  9, 10,\n",
              "         5,  5,  6,  8,  2,  9,  9,  3,  3,  4,  3,  3,  2,  4,  2,  5,  8,  9,\n",
              "         5,  5,  5,  5,  5,  5,  7,  7,  5,  5,  2,  3,  2,  2,  2,  5,  2,  2,\n",
              "         1,  5,  3,  3,  4,  5,  6,  8,  2,  5,  9,  8,  9,  5,  5,  8,  8,  4,\n",
              "         2,  9,  1,  5,  4,  9,  2,  9,  8,  2,  2,  3,  5,  5,  3,  8,  5,  9,\n",
              "         6,  2,  2,  9,  3,  4,  2,  1,  2,  9,  3,  7,  3,  5,  2,  5,  2,  5,\n",
              "         5,  2,  5,  1,  5,  9,  3,  5,  4,  5,  5,  3,  5,  5,  9,  9,  4,  5,\n",
              "         8,  5,  5,  3,  7,  4,  8,  5,  9,  5,  4,  8,  7,  5,  5,  3,  9,  7,\n",
              "         3,  1,  8,  2,  3,  9,  1,  9,  9,  8,  5,  9,  5,  9,  9,  5,  5,  5,\n",
              "         5,  5,  5,  5,  5,  9,  2,  5,  3,  5,  9,  5,  5,  9,  9,  9,  3,  5,\n",
              "         8,  9,  7,  3,  9,  2,  5,  5,  8,  5,  7,  5,  2,  3,  5,  5,  8,  5,\n",
              "        10,  9,  3,  3,  5,  8,  2,  8,  5,  5,  5,  1,  9,  5,  5,  9,  9,  5,\n",
              "         3,  9,  9,  5,  9,  5,  3,  9,  5, 10,  5,  4,  4,  5,  8,  1,  2,  5,\n",
              "         2,  7,  5,  8,  5,  5,  5,  9,  9,  5,  4,  9,  7,  5, 10,  4,  2,  9,\n",
              "         5,  3,  8,  5,  2,  4,  2,  5,  1,  9,  8,  2,  9,  5,  5,  5,  5,  8,\n",
              "         5, 10,  5,  9,  9,  5,  9,  3,  2,  9,  3,  9,  9,  2,  5,  2,  3,  5,\n",
              "         6,  3,  5,  9,  5, 10,  5,  2, 10,  5,  1,  9,  1,  5,  5, 10,  5,  4,\n",
              "         5,  3,  8,  3,  5,  5,  3,  2,  5,  2,  5,  6,  4,  5,  7,  2,  5,  5,\n",
              "         2,  5,  3,  8,  6,  1,  2,  5,  5,  5,  5,  5,  5,  1,  5,  8,  5,  1,\n",
              "        10,  5,  5,  5,  9,  4, 10,  9,  2,  9,  5,  5,  5,  5,  9,  5,  5,  8,\n",
              "         5,  3,  5,  9,  5,  2,  4,  3,  5,  9,  7,  2,  7,  5])"
            ]
          },
          "metadata": {
            "tags": []
          },
          "execution_count": 63
        }
      ]
    },
    {
      "cell_type": "code",
      "metadata": {
        "colab": {
          "base_uri": "https://localhost:8080/"
        },
        "id": "wyQvWnzSKCDq",
        "outputId": "0fca06d8-eef3-4160-9e07-790b6a2ab16e"
      },
      "source": [
        "labels_test_hidden[467]"
      ],
      "execution_count": 64,
      "outputs": [
        {
          "output_type": "execute_result",
          "data": {
            "text/plain": [
              "tensor(1)"
            ]
          },
          "metadata": {
            "tags": []
          },
          "execution_count": 64
        }
      ]
    },
    {
      "cell_type": "code",
      "metadata": {
        "colab": {
          "base_uri": "https://localhost:8080/"
        },
        "id": "UmO9s0xfJ4OQ",
        "outputId": "41383c3d-464e-4aa2-ce35-746c1dfc23cd"
      },
      "source": [
        "labels_test"
      ],
      "execution_count": 65,
      "outputs": [
        {
          "output_type": "execute_result",
          "data": {
            "text/plain": [
              "tensor([ 1,  2,  3,  4,  5,  6,  7,  8,  9, 10,  1,  2,  3,  4,  5,  6,  7,  8,\n",
              "         9, 10,  1,  2,  3,  4,  5,  6,  7,  8,  9, 10,  1,  2,  3,  4,  5,  6,\n",
              "         7,  8,  9, 10,  1,  2,  3,  4,  5,  6,  7,  8,  9, 10,  1,  2,  3,  4,\n",
              "         5,  6,  7,  8,  9, 10,  1,  2,  3,  4,  5,  6,  7,  8,  9, 10,  1,  2,\n",
              "         3,  4,  5,  6,  7,  8,  9, 10,  1,  2,  3,  4,  5,  6,  7,  8,  9, 10,\n",
              "         1,  2,  3,  4,  5,  6,  7,  8,  9, 10,  0,  0,  0,  0,  0,  0,  0,  0,\n",
              "         0,  0,  0,  0,  0,  0,  0,  0,  0,  0,  0,  0,  0,  0,  0,  0,  0,  0,\n",
              "         0,  0,  0,  0,  0,  0,  0,  0,  0,  0,  0,  0,  0,  0,  0,  0,  0,  0,\n",
              "         0,  0,  0,  0,  0,  0,  0,  0,  0,  0,  0,  0,  0,  0,  0,  0,  0,  0,\n",
              "         0,  0,  0,  0,  0,  0,  0,  0,  0,  0,  0,  0,  0,  0,  0,  0,  0,  0,\n",
              "         0,  0,  0,  0,  0,  0,  0,  0,  0,  0,  0,  0,  0,  0,  0,  0,  0,  0,\n",
              "         0,  0,  0,  0,  0,  0,  0,  0,  0,  0,  0,  0,  0,  0,  0,  0,  0,  0,\n",
              "         0,  0,  0,  0,  0,  0,  0,  0,  0,  0,  0,  0,  0,  0,  0,  0,  0,  0,\n",
              "         0,  0,  0,  0,  0,  0,  0,  0,  0,  0,  0,  0,  0,  0,  0,  0,  0,  0,\n",
              "         0,  0,  0,  0,  0,  0,  0,  0,  0,  0,  0,  0,  0,  0,  0,  0,  0,  0,\n",
              "         0,  0,  0,  0,  0,  0,  0,  0,  0,  0,  0,  0,  0,  0,  0,  0,  0,  0,\n",
              "         0,  0,  0,  0,  0,  0,  0,  0,  0,  0,  0,  0,  0,  0,  0,  0,  0,  0,\n",
              "         0,  0,  0,  0,  0,  0,  0,  0,  0,  0,  0,  0,  0,  0,  0,  0,  0,  0,\n",
              "         0,  0,  0,  0,  0,  0,  0,  0,  0,  0,  0,  0,  0,  0,  0,  0,  0,  0,\n",
              "         0,  0,  0,  0,  0,  0,  0,  0,  0,  0,  0,  0,  0,  0,  0,  0,  0,  0,\n",
              "         0,  0,  0,  0,  0,  0,  0,  0,  0,  0,  0,  0,  0,  0,  0,  0,  0,  0,\n",
              "         0,  0,  0,  0,  0,  0,  0,  0,  0,  0,  0,  0,  0,  0,  0,  0,  0,  0,\n",
              "         0,  0,  0,  0,  0,  0,  0,  0,  0,  0,  0,  0,  0,  0,  0,  0,  0,  0,\n",
              "         0,  0,  0,  0,  0,  0,  0,  0,  0,  0,  0,  0,  0,  0,  0,  0,  0,  0,\n",
              "         0,  0,  0,  0,  0,  0,  0,  0,  0,  0,  0,  0,  0,  0,  0,  0,  0,  0,\n",
              "         0,  5,  0,  0,  0,  0,  0,  0,  0,  0,  0,  0,  0,  0,  0,  0,  0,  0,\n",
              "         0,  0,  0,  0,  0,  0,  0,  0,  0,  0,  0,  0,  0,  0,  0,  0,  0,  0,\n",
              "         0,  0,  0,  0,  0,  0,  0,  0,  0,  0,  0,  0,  0,  0])"
            ]
          },
          "metadata": {
            "tags": []
          },
          "execution_count": 65
        }
      ]
    },
    {
      "cell_type": "code",
      "metadata": {
        "colab": {
          "base_uri": "https://localhost:8080/"
        },
        "id": "FBmQ-VOGXADS",
        "outputId": "310fe3cd-60e9-4bd5-e470-a42ee52164e7"
      },
      "source": [
        "labels_test[467]"
      ],
      "execution_count": 66,
      "outputs": [
        {
          "output_type": "execute_result",
          "data": {
            "text/plain": [
              "tensor(0)"
            ]
          },
          "metadata": {
            "tags": []
          },
          "execution_count": 66
        }
      ]
    },
    {
      "cell_type": "code",
      "metadata": {
        "colab": {
          "base_uri": "https://localhost:8080/"
        },
        "id": "09oMI4PcWZEf",
        "outputId": "b9cc3b9b-bc7c-4e77-fa89-0182b905bef2"
      },
      "source": [
        "labels_train"
      ],
      "execution_count": 67,
      "outputs": [
        {
          "output_type": "execute_result",
          "data": {
            "text/plain": [
              "tensor([ 1,  2,  3,  4,  5,  6,  7,  8,  9, 10,  1,  2,  3,  4,  5,  6,  7,  8,\n",
              "         9, 10,  1,  2,  3,  4,  5,  6,  7,  8,  9, 10,  1,  2,  3,  4,  5,  6,\n",
              "         7,  8,  9, 10,  1,  2,  3,  4,  5,  6,  7,  8,  9, 10,  1,  2,  3,  4,\n",
              "         5,  6,  7,  8,  9, 10,  1,  2,  3,  4,  5,  6,  7,  8,  9, 10,  1,  2,\n",
              "         3,  4,  5,  6,  7,  8,  9, 10,  1,  2,  3,  4,  5,  6,  7,  8,  9, 10,\n",
              "         1,  2,  3,  4,  5,  6,  7,  8,  9, 10,  0,  0,  0,  0,  0,  0,  0,  0,\n",
              "         0,  5,  2,  2,  0,  0,  0,  0,  0,  0,  0,  5,  0,  0,  5,  0,  0,  5,\n",
              "         9,  0,  0,  0,  0,  8,  5,  2,  3,  8,  0,  0,  9,  0,  5,  0,  5,  4,\n",
              "         0,  0,  0,  0,  0,  0,  0,  0,  0,  0,  0,  0,  0,  0,  3,  0,  0,  0,\n",
              "         0,  0,  0,  0,  0,  0,  3,  0,  0,  0,  0,  0,  0,  0,  0,  0,  0,  0,\n",
              "         8,  0,  0,  9,  8,  0,  0,  0,  0,  3,  3,  0,  9,  3,  5,  0,  0,  0,\n",
              "         0,  0,  0,  0,  2,  0,  2,  0,  0,  0,  0,  0,  0,  0,  0,  9,  0,  0,\n",
              "         5,  2,  5,  0,  5, 10,  5,  0,  2,  8,  0,  0,  5,  0,  2,  0,  0,  0,\n",
              "         5,  5,  0,  0,  0,  0,  2,  9,  3,  0,  0,  0,  0,  0,  0,  0,  0,  0,\n",
              "         0,  0,  2,  2,  0,  0,  0,  0,  0,  9,  0,  0,  0,  0,  0,  0,  0,  8,\n",
              "         0,  0,  0,  0,  5,  0,  0,  0,  0,  0,  0,  8,  0,  0,  0,  0,  0,  3,\n",
              "         0,  0,  0,  5,  0,  5,  0,  0,  2,  0,  9,  0,  0,  0,  0,  2,  2,  2,\n",
              "         2,  0,  4,  0,  0,  5,  0,  0,  0,  0,  0,  0,  0,  0,  0,  2,  0,  0,\n",
              "         0,  6,  3,  0,  0,  0,  5,  0,  0,  0,  0,  9,  0,  0,  0,  0,  2,  0,\n",
              "         5,  0,  0,  0,  0,  0,  5,  0,  0,  0,  0,  0,  0,  9,  0,  0,  0,  0,\n",
              "         0,  0,  0,  8,  0,  0,  0,  0,  1,  0,  0,  0,  0,  0,  0,  0,  9,  0,\n",
              "         0,  0,  0,  2,  0,  0,  0,  0,  9,  9,  5,  0,  5,  0,  0,  9,  0,  0,\n",
              "         0,  0,  0,  0,  5,  0,  0,  2,  0,  0,  5,  0,  0,  0,  2,  0,  0,  0,\n",
              "         0,  0,  3,  0,  0,  0,  2,  0,  0,  0,  0,  0,  1,  0,  0,  0,  0,  0,\n",
              "         0,  0,  0,  0,  5,  0,  0,  0,  3,  0,  0,  0,  0,  0,  0,  3,  5,  0,\n",
              "         0,  9,  3,  0,  0,  0,  0,  0,  0,  0,  0,  0,  9,  6,  0,  2,  0,  0,\n",
              "         0,  0,  0,  1,  0,  2,  0,  0,  0,  0,  0,  0,  0,  0,  2,  0,  0,  0,\n",
              "         0,  0,  0,  0,  0,  0,  0,  0,  5,  0,  0,  2,  0,  0])"
            ]
          },
          "metadata": {
            "tags": []
          },
          "execution_count": 67
        }
      ]
    },
    {
      "cell_type": "code",
      "metadata": {
        "colab": {
          "base_uri": "https://localhost:8080/"
        },
        "id": "X6IMUMXEUMCS",
        "outputId": "75addaea-69dc-44e4-fb93-66b817f1f613"
      },
      "source": [
        "labels_val"
      ],
      "execution_count": 68,
      "outputs": [
        {
          "output_type": "execute_result",
          "data": {
            "text/plain": [
              "tensor([ 1,  2,  3,  4,  5,  6,  7,  8,  9, 10,  1,  2,  3,  4,  5,  6,  7,  8,\n",
              "         9, 10,  1,  2,  3,  4,  5,  6,  7,  8,  9, 10,  1,  2,  3,  4,  5,  6,\n",
              "         7,  8,  9, 10,  1,  2,  3,  4,  5,  6,  7,  8,  9, 10,  1,  2,  3,  4,\n",
              "         5,  6,  7,  8,  9, 10,  1,  2,  3,  4,  5,  6,  7,  8,  9, 10,  1,  2,\n",
              "         3,  4,  5,  6,  7,  8,  9, 10,  1,  2,  3,  4,  5,  6,  7,  8,  9, 10,\n",
              "         1,  2,  3,  4,  5,  6,  7,  8,  9, 10,  0,  0,  0,  0,  0,  0,  5,  0,\n",
              "         0,  0,  0,  0,  5,  0,  0,  0,  0,  0,  0,  0,  0,  5,  0,  2,  0,  3,\n",
              "         0,  0,  0,  0,  9,  0,  0,  0,  0,  5,  0,  0,  0,  0,  8,  4,  3,  0,\n",
              "         0,  0,  0,  0,  0,  0,  0,  0,  0,  0,  3,  2,  0,  0,  0,  8,  0,  5,\n",
              "         9,  0,  0,  1,  0,  2,  0,  0,  0,  0,  0,  2,  0,  0,  0,  0,  0,  0,\n",
              "         5,  0,  0,  0,  8,  5,  0,  0,  8,  0,  0,  0,  0,  0,  0,  0,  0,  9,\n",
              "         8,  0,  5,  0,  0,  0,  0,  0,  0,  0,  0,  0,  9,  0,  0,  0,  0,  0,\n",
              "         0,  0,  9,  0,  0,  8,  8,  0,  0,  0,  9,  7,  0,  0,  0,  0,  5,  2,\n",
              "         0,  0,  0,  0,  0,  9,  0,  0,  0,  0,  0,  0,  0,  0,  5,  5,  9,  0,\n",
              "         0,  0,  0,  3,  0,  0,  0,  0,  0,  0,  0,  0,  5,  1,  0,  0,  0,  0,\n",
              "         0,  0,  0,  0,  0,  5,  0,  0,  5,  9,  3,  0,  0,  0,  0,  0,  0,  8,\n",
              "         0,  0,  0,  9,  0,  0,  0,  0,  0,  3,  9,  8,  1,  9,  7,  0,  0,  5,\n",
              "         0,  0,  0,  0,  0,  0,  0,  0,  0,  5,  9,  0,  0,  2,  0,  0,  0,  0,\n",
              "         0,  0,  0,  5,  0,  0,  0,  0,  0,  0,  3,  0,  0,  0,  0,  0,  0,  0,\n",
              "         4,  0,  0,  0,  0,  0,  0,  5,  0,  0,  0,  4,  0,  0,  1,  0,  0,  0,\n",
              "         0,  0,  5,  0,  0,  0,  0,  0,  0,  5,  9,  8,  0,  0,  0,  0,  4,  0,\n",
              "         8,  6,  0,  9,  5,  0,  0,  5,  0,  0,  0,  4,  0,  8,  0,  0,  9,  0,\n",
              "         0,  2,  0,  0,  0,  0,  0,  9,  0,  0,  0,  0,  2,  0,  0,  5,  9,  0,\n",
              "         0,  0,  0,  0,  7,  8,  0,  0,  8,  0,  0,  0,  0,  0,  0,  9,  0,  0,\n",
              "         0,  0,  0,  0,  9,  0,  0,  0,  9,  0,  0,  0,  0,  0,  0,  0,  0,  0,\n",
              "         0,  0,  0,  0,  2,  6,  9,  9,  0,  9,  0,  5,  0,  8,  0,  0,  5,  0,\n",
              "         0,  0,  0,  0,  0,  0,  0,  0,  5,  0,  0,  0,  0,  0,  0,  0,  0,  9,\n",
              "         0,  9,  0,  0,  5,  7,  0,  0,  0,  2,  0,  0,  0,  0])"
            ]
          },
          "metadata": {
            "tags": []
          },
          "execution_count": 68
        }
      ]
    }
  ]
}